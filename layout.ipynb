{
 "cells": [
  {
   "cell_type": "code",
   "execution_count": 3,
   "id": "d38cfc78",
   "metadata": {},
   "outputs": [],
   "source": [
    "import numpy as np \n",
    "\n",
    "class layout: \n",
    "  def __init__ (self, m: int, shape: tuple[int, ...], stride: tuple[int, ...]): \n",
    "    if (len(shape) != m) or (len(stride) != m): \n",
    "      raise ValueError(\"m is the dimensionality, both the shape and stride must be an m-tuple\")\n",
    "    for i in range(m): \n",
    "      assert isinstance(shape[i], int)  \n",
    "      assert isinstance(stride[i], int) \n",
    "      assert shape[i] > 1\n",
    "      assert stride[i] > 0\n",
    "      \n",
    "    self.m = m \n",
    "    self.N = np.prod(shape).item()\n",
    "    self.shape = shape\n",
    "    self.stride = stride\n",
    "    \n",
    "    shape_stride = [1 for i in range(m)] \n",
    "    for i in reversed(range(m-1)): \n",
    "      shape_stride[i] = shape[i+1]*shape_stride[i+1]\n",
    "      \n",
    "    self.shape_stride = tuple(shape_stride)\n",
    "    \n",
    "    self.one_d_domain = np.arange(self.N).reshape(self.N, 1)\n",
    "    self.md_domain = np.indices(self.shape)\n",
    "    \n",
    "    self.p_shape_stride = np.array([self.N] + list(self.shape_stride))\n",
    "    self.P_one_d_to_md = (self.one_d_domain // self.p_shape_stride[1:].reshape(1,self.m)) % (self.p_shape_stride[:m].reshape(1,self.m))\n",
    "    \n",
    "    self.P_stride = np.array(self.stride).reshape(tuple([self.m] + [1 for _ in range (self.m)]))\n",
    "    self.P_md_to_one_d = np.sum(self.md_domain * self.P_stride, axis = 0)\n",
    "\n",
    "    self.layout = np.sum((self.P_one_d_to_md.T).reshape(tuple([m] + list(self.shape)))*self.P_stride, axis = 0)\n",
    "    self.test_layout = [0 for _ in range(self.N)] \n",
    "    for i in range(self.N): \n",
    "      md_index = self.one_d_to_md(i)\n",
    "      print(md_index)\n",
    "      \n",
    "    self.perm = [i for i in range(self.m)] \n",
    "    self.sorted_stride = stride\n",
    "    for i in range(self.m): \n",
    "      for j in range(self.m):\n",
    "        if self.sorted_stride[i] <= self.sorted_stride[j]: \n",
    "          p_i = self.perm[i]\n",
    "          p_j = self.perm[j]\n",
    "          s_i = self.sorted_stride[i]\n",
    "          s_j = self.sorted_stride[j]\n",
    "          self.perm[i], self.perm[j] = p_j, p_i\n",
    "          self.sorted_stride[i], self.sorted_stride[j] = s_j, s_i\n",
    "          \n",
    "         \n",
    "        \n",
    "    \n",
    "    \n",
    "  def md_to_one_d (self, md_index): \n",
    "    assert len(md_index) == self.m \n",
    "    for i in range(self.m): \n",
    "      assert md_index[i] >= 0\n",
    "      assert md_index[i] < self.shape[i]\n",
    "    \n",
    "    one_d_index = 0\n",
    "    for i in range(self.m): \n",
    "      one_d_index += self.stride[i]*md_index[i]\n",
    "    \n",
    "    return one_d_index\n",
    "  \n",
    "  def one_d_to_md (self, one_d_index): \n",
    "    assert one_d_index >= 0 \n",
    "    assert one_d_index < self.N \n",
    "    \n",
    "    md_index = [0 for _ in range(self.m)]\n",
    "    \n",
    "    temp_shape_stride = tuple([self.N]) + self.shape_stride\n",
    "    for i in range(self.m): \n",
    "      md_index[i] = ((one_d_index)//temp_shape_stride[i+1]) % temp_shape_stride[i]\n",
    "      \n",
    "    return tuple(md_index)\n",
    "\n",
    "  def __repr__(self):\n",
    "      return (f\"N_elements = {self.N} \\n\"\n",
    "              f\"layout(m={self.m}, \\n\"\n",
    "              f\"       shape={self.shape}, \\n\"\n",
    "              f\"       stride={self.stride}, \\n\"\n",
    "              f\"       shape_stride = {self.shape_stride})\")\n",
    "      \n",
    "  \n",
    "  "
   ]
  },
  {
   "cell_type": "code",
   "execution_count": 4,
   "id": "f58c28b1",
   "metadata": {},
   "outputs": [
    {
     "name": "stdout",
     "output_type": "stream",
     "text": [
      "(0, 0, 0)\n",
      "(0, 0, 1)\n",
      "(0, 1, 0)\n",
      "(0, 1, 1)\n",
      "(0, 2, 0)\n",
      "(0, 2, 1)\n",
      "(0, 3, 0)\n",
      "(0, 3, 1)\n",
      "(1, 4, 0)\n",
      "(1, 4, 1)\n",
      "(1, 5, 0)\n",
      "(1, 5, 1)\n",
      "(1, 6, 0)\n",
      "(1, 6, 1)\n",
      "(1, 7, 0)\n",
      "(1, 7, 1)\n",
      "(2, 0, 0)\n",
      "(2, 0, 1)\n",
      "(2, 1, 0)\n",
      "(2, 1, 1)\n",
      "(2, 2, 0)\n",
      "(2, 2, 1)\n",
      "(2, 3, 0)\n",
      "(2, 3, 1)\n"
     ]
    },
    {
     "ename": "TypeError",
     "evalue": "'tuple' object does not support item assignment",
     "output_type": "error",
     "traceback": [
      "\u001b[31m---------------------------------------------------------------------------\u001b[39m",
      "\u001b[31mTypeError\u001b[39m                                 Traceback (most recent call last)",
      "\u001b[36mCell\u001b[39m\u001b[36m \u001b[39m\u001b[32mIn[4]\u001b[39m\u001b[32m, line 5\u001b[39m\n\u001b[32m      2\u001b[39m stride = (\u001b[32m8\u001b[39m,\u001b[32m2\u001b[39m,\u001b[32m1\u001b[39m)\n\u001b[32m      3\u001b[39m m = \u001b[32m3\u001b[39m\n\u001b[32m----> \u001b[39m\u001b[32m5\u001b[39m matrix = \u001b[43mlayout\u001b[49m\u001b[43m(\u001b[49m\u001b[43mm\u001b[49m\u001b[43m,\u001b[49m\u001b[43m \u001b[49m\u001b[43mshape\u001b[49m\u001b[43m,\u001b[49m\u001b[43m \u001b[49m\u001b[43mstride\u001b[49m\u001b[43m)\u001b[49m\n\u001b[32m      6\u001b[39m \u001b[38;5;28mprint\u001b[39m(matrix.P_md_to_one_d)\n\u001b[32m      7\u001b[39m \u001b[38;5;28mprint\u001b[39m(matrix.P_md_to_one_d.shape)\n",
      "\u001b[36mCell\u001b[39m\u001b[36m \u001b[39m\u001b[32mIn[3]\u001b[39m\u001b[32m, line 49\u001b[39m, in \u001b[36mlayout.__init__\u001b[39m\u001b[34m(self, m, shape, stride)\u001b[39m\n\u001b[32m     47\u001b[39m s_j = \u001b[38;5;28mself\u001b[39m.sorted_stride[j]\n\u001b[32m     48\u001b[39m \u001b[38;5;28mself\u001b[39m.perm[i], \u001b[38;5;28mself\u001b[39m.perm[j] = p_j, p_i\n\u001b[32m---> \u001b[39m\u001b[32m49\u001b[39m \u001b[38;5;28;43mself\u001b[39;49m\u001b[43m.\u001b[49m\u001b[43msorted_stride\u001b[49m\u001b[43m[\u001b[49m\u001b[43mi\u001b[49m\u001b[43m]\u001b[49m, \u001b[38;5;28mself\u001b[39m.sorted_stride[j] = s_j, s_i\n",
      "\u001b[31mTypeError\u001b[39m: 'tuple' object does not support item assignment"
     ]
    }
   ],
   "source": [
    "shape = (3,4,2)\n",
    "stride = (8,2,1)\n",
    "m = 3\n",
    "\n",
    "matrix = layout(m, shape, stride)\n",
    "print(matrix.P_md_to_one_d)\n",
    "print(matrix.P_md_to_one_d.shape)\n",
    "print(matrix.P_one_d_to_md)\n",
    "print(matrix.P_one_d_to_md.shape)"
   ]
  },
  {
   "cell_type": "code",
   "execution_count": 5,
   "id": "1917f545",
   "metadata": {},
   "outputs": [
    {
     "ename": "NameError",
     "evalue": "name 'matrix' is not defined",
     "output_type": "error",
     "traceback": [
      "\u001b[31m---------------------------------------------------------------------------\u001b[39m",
      "\u001b[31mNameError\u001b[39m                                 Traceback (most recent call last)",
      "\u001b[36mCell\u001b[39m\u001b[36m \u001b[39m\u001b[32mIn[5]\u001b[39m\u001b[32m, line 1\u001b[39m\n\u001b[32m----> \u001b[39m\u001b[32m1\u001b[39m \u001b[38;5;28mprint\u001b[39m(\u001b[43mmatrix\u001b[49m)\n",
      "\u001b[31mNameError\u001b[39m: name 'matrix' is not defined"
     ]
    }
   ],
   "source": [
    "print(matrix)"
   ]
  },
  {
   "cell_type": "code",
   "execution_count": 6,
   "id": "cac5df72",
   "metadata": {},
   "outputs": [
    {
     "ename": "NameError",
     "evalue": "name 'matrix' is not defined",
     "output_type": "error",
     "traceback": [
      "\u001b[31m---------------------------------------------------------------------------\u001b[39m",
      "\u001b[31mNameError\u001b[39m                                 Traceback (most recent call last)",
      "\u001b[36mCell\u001b[39m\u001b[36m \u001b[39m\u001b[32mIn[6]\u001b[39m\u001b[32m, line 1\u001b[39m\n\u001b[32m----> \u001b[39m\u001b[32m1\u001b[39m q = \u001b[43mmatrix\u001b[49m.one_d_to_md(\u001b[32m21\u001b[39m)\n\u001b[32m      3\u001b[39m q\n",
      "\u001b[31mNameError\u001b[39m: name 'matrix' is not defined"
     ]
    }
   ],
   "source": [
    "q = matrix.one_d_to_md(21)\n",
    "\n",
    "q"
   ]
  },
  {
   "cell_type": "code",
   "execution_count": 7,
   "id": "f5abf667",
   "metadata": {},
   "outputs": [
    {
     "ename": "NameError",
     "evalue": "name 'matrix' is not defined",
     "output_type": "error",
     "traceback": [
      "\u001b[31m---------------------------------------------------------------------------\u001b[39m",
      "\u001b[31mNameError\u001b[39m                                 Traceback (most recent call last)",
      "\u001b[36mCell\u001b[39m\u001b[36m \u001b[39m\u001b[32mIn[7]\u001b[39m\u001b[32m, line 1\u001b[39m\n\u001b[32m----> \u001b[39m\u001b[32m1\u001b[39m l = \u001b[43mmatrix\u001b[49m.md_to_one_d(q)\n",
      "\u001b[31mNameError\u001b[39m: name 'matrix' is not defined"
     ]
    }
   ],
   "source": [
    "l = matrix.md_to_one_d(q)"
   ]
  },
  {
   "cell_type": "code",
   "execution_count": 8,
   "id": "78088263",
   "metadata": {},
   "outputs": [
    {
     "ename": "NameError",
     "evalue": "name 'l' is not defined",
     "output_type": "error",
     "traceback": [
      "\u001b[31m---------------------------------------------------------------------------\u001b[39m",
      "\u001b[31mNameError\u001b[39m                                 Traceback (most recent call last)",
      "\u001b[36mCell\u001b[39m\u001b[36m \u001b[39m\u001b[32mIn[8]\u001b[39m\u001b[32m, line 1\u001b[39m\n\u001b[32m----> \u001b[39m\u001b[32m1\u001b[39m \u001b[43ml\u001b[49m\n",
      "\u001b[31mNameError\u001b[39m: name 'l' is not defined"
     ]
    }
   ],
   "source": [
    "l"
   ]
  },
  {
   "cell_type": "code",
   "execution_count": 9,
   "id": "9a84ee14",
   "metadata": {},
   "outputs": [],
   "source": [
    "shape = (3,4,2)\n",
    "domain = np.indices(shape)"
   ]
  },
  {
   "cell_type": "code",
   "execution_count": 10,
   "id": "2390ab6c",
   "metadata": {},
   "outputs": [
    {
     "data": {
      "text/plain": [
       "(3, 3, 4, 2)"
      ]
     },
     "execution_count": 10,
     "metadata": {},
     "output_type": "execute_result"
    }
   ],
   "source": [
    "domain.shape"
   ]
  },
  {
   "cell_type": "code",
   "execution_count": 11,
   "id": "23dc5e61",
   "metadata": {},
   "outputs": [
    {
     "ename": "NameError",
     "evalue": "name 'matrix' is not defined",
     "output_type": "error",
     "traceback": [
      "\u001b[31m---------------------------------------------------------------------------\u001b[39m",
      "\u001b[31mNameError\u001b[39m                                 Traceback (most recent call last)",
      "\u001b[36mCell\u001b[39m\u001b[36m \u001b[39m\u001b[32mIn[11]\u001b[39m\u001b[32m, line 1\u001b[39m\n\u001b[32m----> \u001b[39m\u001b[32m1\u001b[39m \u001b[43mmatrix\u001b[49m.layout\n\u001b[32m      3\u001b[39m \u001b[38;5;28mprint\u001b[39m(matrix.layout.shape)\n",
      "\u001b[31mNameError\u001b[39m: name 'matrix' is not defined"
     ]
    }
   ],
   "source": [
    "matrix.layout\n",
    "\n",
    "print(matrix.layout.shape)\n"
   ]
  },
  {
   "cell_type": "code",
   "execution_count": 91,
   "id": "2078065b",
   "metadata": {},
   "outputs": [],
   "source": [
    "import numpy as np \n",
    "import math\n",
    "class layout: \n",
    "  def __init__ (self, m: int, shape: tuple[int, ...], stride: tuple[int, ...]): \n",
    "    if (len(shape) != m) or (len(stride) != m): \n",
    "      raise ValueError(\"m is the dimensionality, both the shape and stride must be an m-tuple\")\n",
    "    assert shape[0] > 0 \n",
    "    assert stride[0] > 0\n",
    "    for i in range(1,m): \n",
    "      assert isinstance(shape[i], int)  | isinstance(shape[i], np.int64)\n",
    "      assert isinstance(stride[i], int)  | isinstance(stride[i], np.int64)\n",
    "      assert shape[i] > 1\n",
    "      assert stride[i] > 0\n",
    "      \n",
    "    self.m = m \n",
    "    self.N = np.prod(shape).item()\n",
    "    self.shape = np.array(shape)\n",
    "    self.stride = np.array(stride)\n",
    "    \n",
    "    shape_stride = [1 for i in range(m)] \n",
    "    for i in reversed(range(m-1)): \n",
    "      shape_stride[i] = shape[i+1]*shape_stride[i+1]\n",
    "      \n",
    "    self.shape_stride = np.array(shape_stride)\n",
    "    self.one_d_domain = np.arange(self.N)\n",
    "    self.fan_map = (self.one_d_domain.reshape(self.N,1) // self.shape_stride.reshape(1, self.m)) % (self.shape.reshape(1, self.m))\n",
    "    #the shape of the fan map is (N, m) the reason being, each one d element is a position in N (the outermost) dimension\n",
    "    #the rest of the inner dimensions, is the literal m_tuple co-ordinate of that that one. that is: \n",
    "    #fan_map(i) (which is a tuple depicting co-oridnates)  =  tuple(self.fan_map[i]) (as a numpy slice)\n",
    "    #the fan map itself, simply presents a row major layout ordering. \n",
    "    #the stride now, is going to induce the map from the m_tuple, back to the 1d. so composed, we get the layout\n",
    "    self.layout = np.sum(self.fan_map * self.stride.reshape(1, self.m), axis = 1)\n",
    "    n_warps = math.ceil(self.N/32.0) \n",
    "    n_lanes = 32\n",
    "    self.pad_amount = (n_warps*n_lanes) - self.N \n",
    "    self.padded_layout = np.pad(self.layout, (0, self.pad_amount))\n",
    "    \n",
    "    self.bank_conflicts = np.zeros((n_warps,n_lanes)).astype(int)\n",
    "    self.layout_bank_id = (self.padded_layout.reshape(n_warps, n_lanes) % 32)\n",
    "    for i in range(n_warps): \n",
    "      for j in range(n_lanes): \n",
    "        if (i*32 + j < self.N):\n",
    "          self.bank_conflicts[i, self.layout_bank_id[i,j]] += 1\n",
    "        \n",
    "        \n",
    "    self.perm = [i for i in range(self.m)] \n",
    "    self.sorted_stride = list(stride)\n",
    "    for i in range(self.m-1): \n",
    "      for j in range(i+1, self.m):\n",
    "        if self.sorted_stride[i] <= self.sorted_stride[j]: \n",
    "          p_i = self.perm[i]\n",
    "          p_j = self.perm[j]\n",
    "          s_i = self.sorted_stride[i]\n",
    "          s_j = self.sorted_stride[j]\n",
    "          self.perm[i], self.perm[j] = p_j, p_i\n",
    "          self.sorted_stride[i], self.sorted_stride[j] = s_j, s_i\n",
    "          \n",
    "    self.sorted_shape = [self.shape[self.perm[i]] for i in range(self.m)]\n",
    "    self.is_injective = True \n",
    "    unique_len = np.unique(self.layout).size\n",
    "    layout_len = self.layout.size\n",
    "    if unique_len < layout_len: self.is_injective = False\n",
    "    self.layout_injective = True \n",
    "    if self.sorted_stride[self.m-1] < 1: \n",
    "      self.layout_injective = False \n",
    "      \n",
    "    for j in reversed(range(self.m - 1)): \n",
    "      if self.sorted_stride[j] < self.sorted_stride[j+1]*self.sorted_shape[j+1]: \n",
    "        self.layout_injective = False\n",
    "        break\n",
    "    \n",
    "  def __repr__(self):\n",
    "    return (f\"N_elements = {self.N} \\n\"\n",
    "            f\"layout(m={self.m}, \\n\"\n",
    "            f\"       shape={self.shape}, \\n\"\n",
    "            f\"       stride={self.stride}, \\n\"\n",
    "            f\"       shape_stride = {self.shape_stride})\")\n",
    "    \n",
    "  "
   ]
  },
  {
   "cell_type": "code",
   "execution_count": 92,
   "id": "6e509cd7",
   "metadata": {},
   "outputs": [],
   "source": [
    "tensor = layout(4, (2,4,8,2), (50,2,4,4))"
   ]
  },
  {
   "cell_type": "code",
   "execution_count": 93,
   "id": "71af041b",
   "metadata": {},
   "outputs": [
    {
     "name": "stdout",
     "output_type": "stream",
     "text": [
      "192\n"
     ]
    }
   ],
   "source": [
    "### For a given shape, when is a stride going to produce an injective map? \n",
    "### idea 1. the number of elements is same, that is stride product equals shape product\n",
    "### that doesn't work. consider shape = (4,3,4,4) stride = (2,2,3,16)\n",
    "### what if stride(i) <= row_major_stride(i)? \n",
    "\n",
    "\n",
    "S = 2*2*3*4*4\n",
    "print(S)\n",
    "shape = (4,3,4,4) \n",
    "row_major_stride = (48,16,4,1)\n",
    "stride = (49,17,5,1)\n",
    "\n",
    "L = layout(4, shape, stride)"
   ]
  },
  {
   "cell_type": "markdown",
   "id": "914614e7",
   "metadata": {},
   "source": []
  },
  {
   "cell_type": "code",
   "execution_count": 94,
   "id": "d55c2484",
   "metadata": {},
   "outputs": [
    {
     "data": {
      "text/plain": [
       "False"
      ]
     },
     "execution_count": 94,
     "metadata": {},
     "output_type": "execute_result"
    }
   ],
   "source": [
    "L.layout_injective"
   ]
  },
  {
   "cell_type": "code",
   "execution_count": 95,
   "id": "af249e61",
   "metadata": {},
   "outputs": [],
   "source": [
    "#to get injective layouts, pick a shape S, and now write a non increasing stride $D$ (unstrictly decereasing) \n",
    "#for which D_{m-1} > 0, and D_{k} >= D_{k+1}*S_{K+1} for each k in [0,m-2] now any permutation of this layout\n",
    "#(applying the same permutation to both S and D) will be injective. \n",
    "from itertools import permutations\n",
    "\n",
    "S = (2,4,3,2)\n",
    "D = (63,15,5,2)\n",
    "\n",
    "def generate_permuted_layouts(S,D): \n",
    "  S_np = np.array(S).astype(int)\n",
    "  D_np = np.array(D).astype(int)\n",
    "  m = len(S) \n",
    "  assert m == len(D)\n",
    "  assert m < 7\n",
    "  perms = permutations([i for i in range(m)])\n",
    "  layouts = []\n",
    "  for pi in perms: \n",
    "    pi_np = np.array(list(pi)).astype(int) \n",
    "    S_pi = S_np[pi_np].astype(int)\n",
    "    D_pi = D_np[pi_np].astype(int)\n",
    "\n",
    "    new_S = tuple(np.asarray(S_pi))\n",
    "    new_D = tuple(np.asarray(D_pi))\n",
    "\n",
    "    \n",
    "    layouts.append(layout(m, new_S, new_D))\n",
    "  return layouts"
   ]
  },
  {
   "cell_type": "code",
   "execution_count": 96,
   "id": "abc06429",
   "metadata": {},
   "outputs": [
    {
     "name": "stdout",
     "output_type": "stream",
     "text": [
      "N_elements = 48 \n",
      "layout(m=4, \n",
      "       shape=[2 3 4 2], \n",
      "       stride=[63  5 15  2], \n",
      "       shape_stride = [24  8  2  1])\n",
      "True\n",
      "foo\n",
      "True\n",
      "True\n",
      "foo\n",
      "True\n",
      "True\n",
      "foo\n",
      "True\n",
      "True\n",
      "foo\n",
      "True\n",
      "True\n",
      "foo\n",
      "True\n",
      "True\n",
      "foo\n",
      "True\n",
      "True\n",
      "foo\n",
      "True\n",
      "True\n",
      "foo\n",
      "True\n",
      "True\n",
      "foo\n",
      "True\n",
      "True\n",
      "foo\n",
      "True\n",
      "True\n",
      "foo\n",
      "True\n",
      "True\n",
      "foo\n",
      "True\n",
      "True\n",
      "foo\n",
      "True\n",
      "True\n",
      "foo\n",
      "True\n",
      "True\n",
      "foo\n",
      "True\n",
      "True\n",
      "foo\n",
      "True\n",
      "True\n",
      "foo\n",
      "True\n",
      "True\n",
      "foo\n",
      "True\n",
      "True\n",
      "foo\n",
      "True\n",
      "True\n",
      "foo\n",
      "True\n",
      "True\n",
      "foo\n",
      "True\n",
      "True\n",
      "foo\n",
      "True\n",
      "True\n",
      "foo\n",
      "True\n",
      "True\n",
      "foo\n",
      "True\n"
     ]
    }
   ],
   "source": [
    "layouts = generate_permuted_layouts(S,D)\n",
    "\n",
    "print(layouts[2])\n",
    "for l in layouts: \n",
    "  print(l.layout_injective)\n",
    "  print(\"foo\")\n",
    "  print(l.is_injective)\n",
    "  "
   ]
  },
  {
   "cell_type": "code",
   "execution_count": 97,
   "id": "d0a32620",
   "metadata": {},
   "outputs": [
    {
     "data": {
      "text/plain": [
       "array([ 1.52149872, -0.69421857, -0.15926733, -0.0499443 ])"
      ]
     },
     "execution_count": 97,
     "metadata": {},
     "output_type": "execute_result"
    }
   ],
   "source": [
    "x = np.random.randn(4)\n",
    "x"
   ]
  },
  {
   "cell_type": "code",
   "execution_count": 98,
   "id": "ab462b0d",
   "metadata": {},
   "outputs": [
    {
     "data": {
      "text/plain": [
       "array([ 1.52149872, -0.69421857, -0.15926733, -0.0499443 ,  0.        ,\n",
       "        0.        ,  0.        ,  0.        ])"
      ]
     },
     "execution_count": 98,
     "metadata": {},
     "output_type": "execute_result"
    }
   ],
   "source": [
    "np.pad(x, (0,4))"
   ]
  },
  {
   "cell_type": "code",
   "execution_count": null,
   "id": "2573cf8d",
   "metadata": {},
   "outputs": [],
   "source": []
  },
  {
   "cell_type": "markdown",
   "id": "e5c98cc4",
   "metadata": {},
   "source": []
  },
  {
   "cell_type": "markdown",
   "id": "f4c42c82",
   "metadata": {},
   "source": [
    "# Warp periodicity. \n",
    "For the purposes of SMEM bank conflict, different warps issue load instructions on different clock cycles. In fact, a good way to measure The latenecy and throughput of an instruction on a single thread is to write asm=volatile micro benchmarks (I will do this sometime), to measure single instance throughput, just spawn a bunch of threads, issue that instruction on independent peices of data in a for loop, concurrently accross all threads, wait for them to finish, run iterations and get time. \n",
    "\n",
    "if total time is $T$, time per iteration is $Q = T/N_iter$ \n",
    "time per iteration per thread = $H =Q/N_threads$ \n",
    "\n",
    "Now, suppose the single thread latency and throughput of this instruction is $L, T$ respectively. \n",
    "if our inner for loop is size $G$, then since each iteration does independent work, per thread, we should be able to spawn an instruction every $T$ clock cycles, and so totally, we take $TG$ time to spawn them, but an instruction that spawns at clock cycle $iT$ is going to finish computing at clock cycle $iT + L$, but nevertheless, no matter how long the latency of this instruction is, the last issued instruction is the one thats going to finish the last. so at most, the time of this loop, per iteration of testing, per thread, (that is $H$ = TG + L) where $L$ is latency. \n",
    "\n",
    "\n",
    "To get $L$ on the other hand, make each run of the loop dependent on the previous iteration and get $H_latency = GL$ where $G$ is the length of the loop \n",
    "\n",
    "so we can solve for $T,L$ using these two equations \n",
    "\n",
    "\n",
    "\n",
    "Now, moving on, a layout map $f_L :[N_{elems}] -> Q \\subset \\mathbb N$ can be interpreted as: \n",
    "the domain is a set of threads, and the range $Q$ is addresses in the shared memory that a thread is assigned to. in this view, we know that [N_{elems}] can be partitioned into warps of 32 congtigous threads, and bank conflicts are whithin a warp, but are independent across warps.\n",
    "\n",
    "\n",
    "so then, we say that $f_L$ has a period of $p$ warps, (Say for example 2 warps), then every 64 thread chunk's layout is just a shift of the pattern of the previous two warps, and so on. \n",
    "\n",
    "Ie for some constant $c$, f_L(i) = (i//p)*c + f_L(i%p). \n",
    "\n",
    "(i//p) obviousl indicates which period this i belongs 2, and $c$ depicts the shifting factor of the period. \n",
    "\n",
    "\n"
   ]
  },
  {
   "cell_type": "code",
   "execution_count": 99,
   "id": "9dcb22fe",
   "metadata": {},
   "outputs": [
    {
     "name": "stdout",
     "output_type": "stream",
     "text": [
      "[0 0 1 0 1 0 0 1 0 1 0 0 1 0 1 0 0 1 0 2 0 1 1 0 2 0 1 0 0 1 0 1]\n",
      "[0 0 1 0 1 0 0 1 0 1 0 0 1 0 1 0 1 1 0 1 0 1 1 0 2 0 1 0 0 1 0 1]\n",
      "[0 0 1 0 2 0 1 1 0 2 0 1 0 0 0 0 0 1 0 2 0 1 1 0 2 0 1 0 0 0 0 0]\n",
      "[0 0 1 0 2 0 1 1 0 2 0 1 0 0 0 0 0 1 0 2 0 1 1 0 2 0 1 0 0 0 0 0]\n",
      "[0 1 0 0 1 0 1 1 0 1 0 1 1 0 1 0 1 1 0 1 0 1 1 0 1 0 1 0 0 0 0 1]\n",
      "[0 1 0 0 1 0 1 1 0 2 0 1 0 0 1 0 1 0 0 1 0 1 1 0 2 0 1 0 0 0 0 1]\n",
      "[0 0 1 0 1 0 0 1 0 1 0 0 1 1 1 1 0 1 1 1 1 0 1 1 1 1 0 0 0 0 0 0]\n",
      "[0 0 0 0 1 0 0 1 0 1 0 0 1 1 1 1 0 1 1 1 1 0 1 1 1 1 0 0 0 0 0 1]\n",
      "[0 0 0 0 0 0 0 1 1 1 1 0 1 1 1 1 0 1 1 1 1 0 1 1 1 1 0 0 0 0 0 0]\n",
      "[0 0 0 0 0 0 0 1 1 1 1 0 1 1 1 1 0 1 1 1 1 0 1 1 1 1 0 0 0 0 0 0]\n",
      "[0 0 0 0 1 0 0 0 0 1 1 0 1 1 1 1 0 1 1 1 1 0 1 1 1 1 0 0 0 0 0 1]\n",
      "[0 0 0 0 1 1 0 0 0 1 1 0 1 1 1 1 0 1 1 1 1 0 1 1 1 1 0 0 0 0 0 0]\n",
      "[0 0 0 0 0 0 0 1 1 2 2 1 1 0 0 0 0 0 0 0 0 0 1 1 2 2 1 1 0 0 0 0]\n",
      "[0 0 0 0 0 0 0 1 1 2 2 1 1 0 0 0 0 0 0 0 0 0 1 1 2 2 1 1 0 0 0 0]\n",
      "[0 0 0 0 0 0 0 1 1 2 2 1 1 0 0 0 0 0 0 0 0 0 1 1 2 2 1 1 0 0 0 0]\n",
      "[0 0 0 0 0 0 0 1 1 2 2 1 1 0 0 0 0 0 0 0 0 0 1 1 2 2 1 1 0 0 0 0]\n",
      "[0 0 0 0 0 0 0 1 1 2 2 1 1 0 0 0 0 0 0 0 0 0 1 1 2 2 1 1 0 0 0 0]\n",
      "[0 0 0 0 0 0 0 1 1 2 2 1 1 0 0 0 0 0 0 0 0 0 1 1 2 2 1 1 0 0 0 0]\n",
      "[0 1 0 0 1 0 1 0 0 1 1 1 0 0 1 1 1 0 0 1 1 1 0 0 1 1 1 0 0 0 0 1]\n",
      "[0 1 0 0 1 0 1 0 0 1 1 1 1 0 1 0 1 0 0 1 0 1 0 0 1 1 1 1 0 0 0 1]\n",
      "[1 0 0 0 1 1 0 0 0 1 1 0 0 0 1 1 1 0 0 1 1 1 0 0 1 1 1 1 0 0 0 1]\n",
      "[1 0 0 0 1 1 0 0 0 1 1 0 0 0 1 1 0 0 0 1 1 1 1 0 1 1 1 1 0 0 0 1]\n",
      "[0 0 0 0 1 1 1 1 0 1 1 1 1 0 0 0 0 0 0 1 1 1 1 0 1 1 1 1 0 0 0 0]\n",
      "[0 0 0 0 1 1 1 1 0 1 1 1 1 0 0 0 0 0 0 1 1 1 1 0 1 1 1 1 0 0 0 0]\n"
     ]
    }
   ],
   "source": [
    "for l in layouts: \n",
    "  print(l.bank_conflicts[1])"
   ]
  },
  {
   "cell_type": "code",
   "execution_count": 106,
   "id": "9dbe9f55",
   "metadata": {},
   "outputs": [
    {
     "data": {
      "text/plain": [
       "N_elements = 192 \n",
       "layout(m=2, \n",
       "       shape=[ 6 32], \n",
       "       stride=[96  3], \n",
       "       shape_stride = [32  1])"
      ]
     },
     "execution_count": 106,
     "metadata": {},
     "output_type": "execute_result"
    }
   ],
   "source": [
    "warp_shape = (6,32)\n",
    "warp_stride = (96,3)\n",
    "L = layout(2, warp_shape, warp_stride)\n",
    "L"
   ]
  },
  {
   "cell_type": "code",
   "execution_count": 107,
   "id": "cb86736c",
   "metadata": {},
   "outputs": [
    {
     "data": {
      "text/plain": [
       "array([[1, 1, 1, 1, 1, 1, 1, 1, 1, 1, 1, 1, 1, 1, 1, 1, 1, 1, 1, 1, 1, 1,\n",
       "        1, 1, 1, 1, 1, 1, 1, 1, 1, 1],\n",
       "       [1, 1, 1, 1, 1, 1, 1, 1, 1, 1, 1, 1, 1, 1, 1, 1, 1, 1, 1, 1, 1, 1,\n",
       "        1, 1, 1, 1, 1, 1, 1, 1, 1, 1],\n",
       "       [1, 1, 1, 1, 1, 1, 1, 1, 1, 1, 1, 1, 1, 1, 1, 1, 1, 1, 1, 1, 1, 1,\n",
       "        1, 1, 1, 1, 1, 1, 1, 1, 1, 1],\n",
       "       [1, 1, 1, 1, 1, 1, 1, 1, 1, 1, 1, 1, 1, 1, 1, 1, 1, 1, 1, 1, 1, 1,\n",
       "        1, 1, 1, 1, 1, 1, 1, 1, 1, 1],\n",
       "       [1, 1, 1, 1, 1, 1, 1, 1, 1, 1, 1, 1, 1, 1, 1, 1, 1, 1, 1, 1, 1, 1,\n",
       "        1, 1, 1, 1, 1, 1, 1, 1, 1, 1],\n",
       "       [1, 1, 1, 1, 1, 1, 1, 1, 1, 1, 1, 1, 1, 1, 1, 1, 1, 1, 1, 1, 1, 1,\n",
       "        1, 1, 1, 1, 1, 1, 1, 1, 1, 1]])"
      ]
     },
     "execution_count": 107,
     "metadata": {},
     "output_type": "execute_result"
    }
   ],
   "source": [
    "L.layout\n",
    "L.bank_conflicts\n"
   ]
  },
  {
   "cell_type": "code",
   "execution_count": null,
   "id": "d0b4d13b",
   "metadata": {},
   "outputs": [],
   "source": []
  }
 ],
 "metadata": {
  "kernelspec": {
   "display_name": ".venv (3.13.3)",
   "language": "python",
   "name": "python3"
  },
  "language_info": {
   "codemirror_mode": {
    "name": "ipython",
    "version": 3
   },
   "file_extension": ".py",
   "mimetype": "text/x-python",
   "name": "python",
   "nbconvert_exporter": "python",
   "pygments_lexer": "ipython3",
   "version": "3.13.3"
  }
 },
 "nbformat": 4,
 "nbformat_minor": 5
}
