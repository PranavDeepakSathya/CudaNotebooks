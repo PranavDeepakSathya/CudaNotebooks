{
 "cells": [
  {
   "cell_type": "code",
   "execution_count": null,
   "id": "d38cfc78",
   "metadata": {},
   "outputs": [],
   "source": [
    "import numpy as np \n",
    "\n",
    "class layout: \n",
    "  def __init__ (self, m: int, shape: tuple[int, ...], stride: tuple[int, ...]): \n",
    "    if (len(shape) != m) or (len(stride) != m): \n",
    "      raise ValueError(\"m is the dimensionality, both the shape and stride must be an m-tuple\")\n",
    "    for i in range(m): \n",
    "      assert isinstance(shape[i], int)  \n",
    "      assert isinstance(stride[i], int) \n",
    "      assert shape[i] > 1\n",
    "      assert stride[i] > 0\n",
    "      \n",
    "    self.m = m \n",
    "    self.N = np.prod(shape).item()\n",
    "    self.shape = shape\n",
    "    self.stride = stride\n",
    "    \n",
    "    shape_stride = [1 for i in range(m)] \n",
    "    for i in reversed(range(m-1)): \n",
    "      shape_stride[i] = shape[i+1]*shape_stride[i+1]\n",
    "      \n",
    "    self.shape_stride = tuple(shape_stride)\n",
    "    \n",
    "    self.one_d_domain = np.arange(self.N).reshape(self.N, 1)\n",
    "    self.md_domain = np.indices(self.shape)\n",
    "    \n",
    "    self.p_shape_stride = np.array([self.N] + list(self.shape_stride))\n",
    "    self.P_one_d_to_md = (self.one_d_domain // self.p_shape_stride[1:].reshape(1,self.m)) % (self.p_shape_stride[:m].reshape(1,self.m))\n",
    "    \n",
    "    self.P_stride = np.array(self.stride).reshape(tuple([self.m] + [1 for _ in range (self.m)]))\n",
    "    self.P_md_to_one_d = np.sum(self.md_domain * self.P_stride, axis = 0)\n",
    "\n",
    "    self.layout = np.sum((self.P_one_d_to_md.T).reshape(tuple([m] + list(self.shape)))*self.P_stride, axis = 0)\n",
    "    self.test_layout = [0 for _ in range(self.N)] \n",
    "    for i in range(self.N): \n",
    "      md_index = self.one_d_to_md(i)\n",
    "      print(md_index)\n",
    "      \n",
    "    self.perm = [i for i in range(self.m)] \n",
    "    self.sorted_stride = stride\n",
    "    for i in range(self.m): \n",
    "      for j in range(self.m):\n",
    "        if self.sorted_stride[i] <= self.sorted_stride[j]: \n",
    "          p_i = self.perm[i]\n",
    "          p_j = self.perm[j]\n",
    "          s_i = self.sorted_stride[i]\n",
    "          s_j = self.sorted_stride[j]\n",
    "          self.perm[i], self.perm[j] = p_j, p_i\n",
    "          self.sorted_stride[i], self.sorted_stride[j] = s_j, s_i\n",
    "          \n",
    "         \n",
    "        \n",
    "    \n",
    "    \n",
    "  def md_to_one_d (self, md_index): \n",
    "    assert len(md_index) == self.m \n",
    "    for i in range(self.m): \n",
    "      assert md_index[i] >= 0\n",
    "      assert md_index[i] < self.shape[i]\n",
    "    \n",
    "    one_d_index = 0\n",
    "    for i in range(self.m): \n",
    "      one_d_index += self.stride[i]*md_index[i]\n",
    "    \n",
    "    return one_d_index\n",
    "  \n",
    "  def one_d_to_md (self, one_d_index): \n",
    "    assert one_d_index >= 0 \n",
    "    assert one_d_index < self.N \n",
    "    \n",
    "    md_index = [0 for _ in range(self.m)]\n",
    "    \n",
    "    temp_shape_stride = tuple([self.N]) + self.shape_stride\n",
    "    for i in range(self.m): \n",
    "      md_index[i] = ((one_d_index)//temp_shape_stride[i+1]) % temp_shape_stride[i]\n",
    "      \n",
    "    return tuple(md_index)\n",
    "\n",
    "  def __repr__(self):\n",
    "      return (f\"N_elements = {self.N} \\n\"\n",
    "              f\"layout(m={self.m}, \\n\"\n",
    "              f\"       shape={self.shape}, \\n\"\n",
    "              f\"       stride={self.stride}, \\n\"\n",
    "              f\"       shape_stride = {self.shape_stride})\")\n",
    "      \n",
    "  \n",
    "  "
   ]
  },
  {
   "cell_type": "code",
   "execution_count": 3,
   "id": "f58c28b1",
   "metadata": {},
   "outputs": [
    {
     "name": "stdout",
     "output_type": "stream",
     "text": [
      "(0, 0, 0)\n",
      "(0, 0, 1)\n",
      "(0, 1, 0)\n",
      "(0, 1, 1)\n",
      "(0, 2, 0)\n",
      "(0, 2, 1)\n",
      "(0, 3, 0)\n",
      "(0, 3, 1)\n",
      "(1, 4, 0)\n",
      "(1, 4, 1)\n",
      "(1, 5, 0)\n",
      "(1, 5, 1)\n",
      "(1, 6, 0)\n",
      "(1, 6, 1)\n",
      "(1, 7, 0)\n",
      "(1, 7, 1)\n",
      "(2, 0, 0)\n",
      "(2, 0, 1)\n",
      "(2, 1, 0)\n",
      "(2, 1, 1)\n",
      "(2, 2, 0)\n",
      "(2, 2, 1)\n",
      "(2, 3, 0)\n",
      "(2, 3, 1)\n",
      "[[[ 0  1]\n",
      "  [ 2  3]\n",
      "  [ 4  5]\n",
      "  [ 6  7]]\n",
      "\n",
      " [[ 8  9]\n",
      "  [10 11]\n",
      "  [12 13]\n",
      "  [14 15]]\n",
      "\n",
      " [[16 17]\n",
      "  [18 19]\n",
      "  [20 21]\n",
      "  [22 23]]]\n",
      "(3, 4, 2)\n",
      "[[0 0 0]\n",
      " [0 0 1]\n",
      " [0 1 0]\n",
      " [0 1 1]\n",
      " [0 2 0]\n",
      " [0 2 1]\n",
      " [0 3 0]\n",
      " [0 3 1]\n",
      " [1 4 0]\n",
      " [1 4 1]\n",
      " [1 5 0]\n",
      " [1 5 1]\n",
      " [1 6 0]\n",
      " [1 6 1]\n",
      " [1 7 0]\n",
      " [1 7 1]\n",
      " [2 0 0]\n",
      " [2 0 1]\n",
      " [2 1 0]\n",
      " [2 1 1]\n",
      " [2 2 0]\n",
      " [2 2 1]\n",
      " [2 3 0]\n",
      " [2 3 1]]\n",
      "(24, 3)\n"
     ]
    }
   ],
   "source": [
    "shape = (3,4,2)\n",
    "stride = (8,2,1)\n",
    "m = 3\n",
    "\n",
    "matrix = layout(m, shape, stride)\n",
    "print(matrix.P_md_to_one_d)\n",
    "print(matrix.P_md_to_one_d.shape)\n",
    "print(matrix.P_one_d_to_md)\n",
    "print(matrix.P_one_d_to_md.shape)"
   ]
  },
  {
   "cell_type": "code",
   "execution_count": 4,
   "id": "1917f545",
   "metadata": {},
   "outputs": [
    {
     "name": "stdout",
     "output_type": "stream",
     "text": [
      "N_elements = 24 \n",
      "layout(m=3, \n",
      "       shape=(3, 4, 2), \n",
      "       stride=(8, 2, 1), \n",
      "       shape_stride = (8, 2, 1))\n"
     ]
    }
   ],
   "source": [
    "print(matrix)"
   ]
  },
  {
   "cell_type": "code",
   "execution_count": 5,
   "id": "cac5df72",
   "metadata": {},
   "outputs": [
    {
     "data": {
      "text/plain": [
       "(2, 2, 1)"
      ]
     },
     "execution_count": 5,
     "metadata": {},
     "output_type": "execute_result"
    }
   ],
   "source": [
    "q = matrix.one_d_to_md(21)\n",
    "\n",
    "q"
   ]
  },
  {
   "cell_type": "code",
   "execution_count": 6,
   "id": "f5abf667",
   "metadata": {},
   "outputs": [],
   "source": [
    "l = matrix.md_to_one_d(q)"
   ]
  },
  {
   "cell_type": "code",
   "execution_count": 7,
   "id": "78088263",
   "metadata": {},
   "outputs": [
    {
     "data": {
      "text/plain": [
       "21"
      ]
     },
     "execution_count": 7,
     "metadata": {},
     "output_type": "execute_result"
    }
   ],
   "source": [
    "l"
   ]
  },
  {
   "cell_type": "code",
   "execution_count": 8,
   "id": "9a84ee14",
   "metadata": {},
   "outputs": [],
   "source": [
    "shape = (3,4,2)\n",
    "domain = np.indices(shape)"
   ]
  },
  {
   "cell_type": "code",
   "execution_count": 9,
   "id": "2390ab6c",
   "metadata": {},
   "outputs": [
    {
     "data": {
      "text/plain": [
       "(3, 3, 4, 2)"
      ]
     },
     "execution_count": 9,
     "metadata": {},
     "output_type": "execute_result"
    }
   ],
   "source": [
    "domain.shape"
   ]
  },
  {
   "cell_type": "code",
   "execution_count": 10,
   "id": "23dc5e61",
   "metadata": {},
   "outputs": [
    {
     "name": "stdout",
     "output_type": "stream",
     "text": [
      "(3, 4, 2)\n"
     ]
    }
   ],
   "source": [
    "matrix.layout\n",
    "\n",
    "print(matrix.layout.shape)\n"
   ]
  },
  {
   "cell_type": "code",
   "execution_count": null,
   "id": "2078065b",
   "metadata": {},
   "outputs": [],
   "source": [
    "import numpy as np \n",
    "\n",
    "class layout: \n",
    "  def __init__ (self, m: int, shape: tuple[int, ...], stride: tuple[int, ...]): \n",
    "    if (len(shape) != m) or (len(stride) != m): \n",
    "      raise ValueError(\"m is the dimensionality, both the shape and stride must be an m-tuple\")\n",
    "    assert shape[0] > 0 \n",
    "    assert stride[0] > 0\n",
    "    for i in range(1,m): \n",
    "      assert isinstance(shape[i], int)  \n",
    "      assert isinstance(stride[i], int) \n",
    "      assert shape[i] > 1\n",
    "      assert stride[i] > 0\n",
    "      \n",
    "    self.m = m \n",
    "    self.N = np.prod(shape).item()\n",
    "    self.shape = np.array(shape)\n",
    "    self.stride = np.array(stride)\n",
    "    \n",
    "    shape_stride = [1 for i in range(m)] \n",
    "    for i in reversed(range(m-1)): \n",
    "      shape_stride[i] = shape[i+1]*shape_stride[i+1]\n",
    "      \n",
    "    self.shape_stride = np.array(shape_stride)\n",
    "    self.one_d_domain = np.arange(self.N)\n",
    "    self.fan_map = (self.one_d_domain.reshape(self.N,1) // self.shape_stride.reshape(1, self.m)) % (self.shape.reshape(1, self.m))\n",
    "    #the shape of the fan map is (N, m) the reason being, each one d element is a position in N (the outermost) dimension\n",
    "    #the rest of the inner dimensions, is the literal m_tuple co-ordinate of that that one. that is: \n",
    "    #fan_map(i) (which is a tuple depicting co-oridnates)  =  tuple(self.fan_map[i]) (as a numpy slice)\n",
    "    #the fan map itself, simply presents a row major layout ordering. \n",
    "    #the stride now, is going to induce the map from the m_tuple, back to the 1d. so composed, we get the layout\n",
    "    self.layout = np.sum(self.fan_map * self.stride.reshape(1, self.m), axis = 1)\n",
    "    self.bank_conflicts = -np.ones((self.N//32, 32)).astype(int)\n",
    "    self.layout_bank_id = (self.layout.reshape(self.N//32, 32) % 32)\n",
    "    for i in range(self.N//32): \n",
    "      for j in range(32): \n",
    "        self.bank_conflicts[i, self.layout_bank_id[i,j]] += 1\n",
    "        \n",
    "        \n",
    "    self.perm = [i for i in range(self.m)] \n",
    "    self.sorted_stride = stride\n",
    "    for i in range(self.m): \n",
    "      for j in range(self.m):\n",
    "        if self.sorted_stride[i] <= self.sorted_stride[j]: \n",
    "          p_i = self.perm[i]\n",
    "          p_j = self.perm[j]\n",
    "          s_i = self.sorted_stride[i]\n",
    "          s_j = self.sorted_stride[j]\n",
    "          self.perm[i], self.perm[j] = p_j, p_i\n",
    "          self.sorted_stride[i], self.sorted_stride[j] = s_j, s_i\n",
    "    \n",
    "  def __repr__(self):\n",
    "    return (f\"N_elements = {self.N} \\n\"\n",
    "            f\"layout(m={self.m}, \\n\"\n",
    "            f\"       shape={self.shape}, \\n\"\n",
    "            f\"       stride={self.stride}, \\n\"\n",
    "            f\"       shape_stride = {self.shape_stride})\")\n",
    "    \n",
    "  "
   ]
  },
  {
   "cell_type": "code",
   "execution_count": 12,
   "id": "6e509cd7",
   "metadata": {},
   "outputs": [],
   "source": [
    "tensor = layout(4, (2,4,8,2), (50,2,4,4))"
   ]
  },
  {
   "cell_type": "code",
   "execution_count": 13,
   "id": "69d9eac2",
   "metadata": {},
   "outputs": [
    {
     "data": {
      "text/plain": [
       "(128,)"
      ]
     },
     "execution_count": 13,
     "metadata": {},
     "output_type": "execute_result"
    }
   ],
   "source": [
    "tensor.one_d_domain\n",
    "\n",
    "tensor.layout.shape"
   ]
  },
  {
   "cell_type": "code",
   "execution_count": 14,
   "id": "39ced556",
   "metadata": {},
   "outputs": [
    {
     "data": {
      "text/plain": [
       "array([[ 0,  4,  4,  8,  8, 12, 12, 16, 16, 20, 20, 24, 24, 28, 28,  0,\n",
       "         2,  6,  6, 10, 10, 14, 14, 18, 18, 22, 22, 26, 26, 30, 30,  2],\n",
       "       [ 4,  8,  8, 12, 12, 16, 16, 20, 20, 24, 24, 28, 28,  0,  0,  4,\n",
       "         6, 10, 10, 14, 14, 18, 18, 22, 22, 26, 26, 30, 30,  2,  2,  6],\n",
       "       [18, 22, 22, 26, 26, 30, 30,  2,  2,  6,  6, 10, 10, 14, 14, 18,\n",
       "        20, 24, 24, 28, 28,  0,  0,  4,  4,  8,  8, 12, 12, 16, 16, 20],\n",
       "       [22, 26, 26, 30, 30,  2,  2,  6,  6, 10, 10, 14, 14, 18, 18, 22,\n",
       "        24, 28, 28,  0,  0,  4,  4,  8,  8, 12, 12, 16, 16, 20, 20, 24]])"
      ]
     },
     "execution_count": 14,
     "metadata": {},
     "output_type": "execute_result"
    }
   ],
   "source": [
    "tensor.layout_bank_id"
   ]
  },
  {
   "cell_type": "code",
   "execution_count": 15,
   "id": "ac2ccbe6",
   "metadata": {},
   "outputs": [
    {
     "data": {
      "text/plain": [
       "array([[ 1, -1,  1, -1,  1, -1,  1, -1,  1, -1,  1, -1,  1, -1,  1, -1,\n",
       "         1, -1,  1, -1,  1, -1,  1, -1,  1, -1,  1, -1,  1, -1,  1, -1],\n",
       "       [ 1, -1,  1, -1,  1, -1,  1, -1,  1, -1,  1, -1,  1, -1,  1, -1,\n",
       "         1, -1,  1, -1,  1, -1,  1, -1,  1, -1,  1, -1,  1, -1,  1, -1],\n",
       "       [ 1, -1,  1, -1,  1, -1,  1, -1,  1, -1,  1, -1,  1, -1,  1, -1,\n",
       "         1, -1,  1, -1,  1, -1,  1, -1,  1, -1,  1, -1,  1, -1,  1, -1],\n",
       "       [ 1, -1,  1, -1,  1, -1,  1, -1,  1, -1,  1, -1,  1, -1,  1, -1,\n",
       "         1, -1,  1, -1,  1, -1,  1, -1,  1, -1,  1, -1,  1, -1,  1, -1]])"
      ]
     },
     "execution_count": 15,
     "metadata": {},
     "output_type": "execute_result"
    }
   ],
   "source": [
    "tensor.bank_conflicts"
   ]
  },
  {
   "cell_type": "code",
   "execution_count": 43,
   "id": "71af041b",
   "metadata": {},
   "outputs": [
    {
     "name": "stdout",
     "output_type": "stream",
     "text": [
      "192\n"
     ]
    }
   ],
   "source": [
    "### For a given shape, when is a stride going to produce an injective map? \n",
    "### idea 1. the number of elements is same, that is stride product equals shape product\n",
    "### that doesn't work. consider shape = (4,3,4,4) stride = (2,2,3,16)\n",
    "### what if stride(i) <= row_major_stride(i)? \n",
    "\n",
    "\n",
    "S = 2*2*3*4*4\n",
    "print(S)\n",
    "shape = (4,3,4,4) \n",
    "row_major_stride = (48,16,4,1)\n",
    "stride = (49,17,5,1)\n",
    "\n",
    "L = layout(4, shape, stride)"
   ]
  },
  {
   "cell_type": "code",
   "execution_count": 45,
   "id": "7e91d658",
   "metadata": {},
   "outputs": [
    {
     "name": "stdout",
     "output_type": "stream",
     "text": [
      "[  0   1   2   3   5   6   7   8  10  11  12  13  15  16  17  18  17  18\n",
      "  19  20  22  23  24  25  27  28  29  30  32  33  34  35  34  35  36  37\n",
      "  39  40  41  42  44  45  46  47  49  50  51  52  49  50  51  52  54  55\n",
      "  56  57  59  60  61  62  64  65  66  67  66  67  68  69  71  72  73  74\n",
      "  76  77  78  79  81  82  83  84  83  84  85  86  88  89  90  91  93  94\n",
      "  95  96  98  99 100 101  98  99 100 101 103 104 105 106 108 109 110 111\n",
      " 113 114 115 116 115 116 117 118 120 121 122 123 125 126 127 128 130 131\n",
      " 132 133 132 133 134 135 137 138 139 140 142 143 144 145 147 148 149 150\n",
      " 147 148 149 150 152 153 154 155 157 158 159 160 162 163 164 165 164 165\n",
      " 166 167 169 170 171 172 174 175 176 177 179 180 181 182 181 182 183 184\n",
      " 186 187 188 189 191 192 193 194 196 197 198 199]\n",
      "(192,)\n",
      "False\n",
      "(164,)\n"
     ]
    }
   ],
   "source": [
    "print(L.layout)\n",
    "print(L.layout.shape)\n",
    "X = L.layout \n",
    "X_unique = np.unique(X)\n",
    "print(X_unique.size == X.size) \n",
    "print(X_unique.shape)"
   ]
  },
  {
   "cell_type": "markdown",
   "id": "914614e7",
   "metadata": {},
   "source": []
  }
 ],
 "metadata": {
  "kernelspec": {
   "display_name": ".venv (3.13.3)",
   "language": "python",
   "name": "python3"
  },
  "language_info": {
   "codemirror_mode": {
    "name": "ipython",
    "version": 3
   },
   "file_extension": ".py",
   "mimetype": "text/x-python",
   "name": "python",
   "nbconvert_exporter": "python",
   "pygments_lexer": "ipython3",
   "version": "3.13.3"
  }
 },
 "nbformat": 4,
 "nbformat_minor": 5
}
