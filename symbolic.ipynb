{
 "cells": [
  {
   "cell_type": "code",
   "execution_count": 24,
   "id": "aa3189ab",
   "metadata": {},
   "outputs": [],
   "source": [
    "import sympy as sym \n",
    "import numpy as np\n",
    "from typing import Tuple"
   ]
  },
  {
   "cell_type": "code",
   "execution_count": 25,
   "id": "f5e6531e",
   "metadata": {},
   "outputs": [],
   "source": [
    "#let us use cutlass notation and _ at the end of symbols \n",
    "x, y = sym.symbols('x, y')\n"
   ]
  },
  {
   "cell_type": "code",
   "execution_count": 26,
   "id": "b1863158",
   "metadata": {},
   "outputs": [],
   "source": [
    "f_sym = x**2 + sym.sin(y)"
   ]
  },
  {
   "cell_type": "code",
   "execution_count": 27,
   "id": "3ed6f64e",
   "metadata": {},
   "outputs": [],
   "source": [
    "f_realized = sym.lambdify([x,y], f_sym, 'numpy')"
   ]
  },
  {
   "cell_type": "code",
   "execution_count": 28,
   "id": "bad39675",
   "metadata": {},
   "outputs": [
    {
     "data": {
      "text/plain": [
       "array([0.46789551, 0.49895757, 4.66119282, 3.87078259, 1.63333665,\n",
       "       1.76295222, 0.47804541, 0.54590916, 1.32977942, 0.49773147])"
      ]
     },
     "execution_count": 28,
     "metadata": {},
     "output_type": "execute_result"
    }
   ],
   "source": [
    "X = np.random.randn(10)\n",
    "Y = np.random.randn(1) \n",
    "g = f_realized(X,Y)\n",
    "g"
   ]
  },
  {
   "cell_type": "code",
   "execution_count": 29,
   "id": "16cb3c34",
   "metadata": {},
   "outputs": [
    {
     "data": {
      "text/plain": [
       "array([ 0.08349935, -0.19502359,  2.04945589,  1.84658041, -1.08278035,\n",
       "       -1.14106479, -0.1308512 , -0.29152323,  0.93212448,  0.19185436])"
      ]
     },
     "execution_count": 29,
     "metadata": {},
     "output_type": "execute_result"
    }
   ],
   "source": [
    "X "
   ]
  },
  {
   "cell_type": "code",
   "execution_count": 30,
   "id": "e2e97b46",
   "metadata": {},
   "outputs": [
    {
     "data": {
      "text/plain": [
       "array([0.4790354])"
      ]
     },
     "execution_count": 30,
     "metadata": {},
     "output_type": "execute_result"
    }
   ],
   "source": [
    "Y"
   ]
  },
  {
   "cell_type": "code",
   "execution_count": 86,
   "id": "c653ab29",
   "metadata": {},
   "outputs": [],
   "source": [
    "class Layout: \n",
    "  def __init__ (self, shape: Tuple[sym.Symbol,...], stride: Tuple[sym.Symbol,...], \n",
    "                kind: str, input_symbol: sym.Symbol):\n",
    "    \n",
    "    assert len(shape) == len(stride) \n",
    "    self.m = len(shape)\n",
    "    self.shape_stride = [sym.Integer(1)]*self.m\n",
    "    self.shape = shape \n",
    "    self.stride = stride\n",
    "    \n",
    "\n",
    "    for i in reversed(range(self.m-1)): \n",
    "      self.shape_stride[i] = self.shape[i]*self.shape_stride[i+1]\n",
    "      \n",
    "    self.shape_stride = tuple(self.shape_stride)  \n",
    "    self.I = input_symbol\n",
    "\n",
    "    self.fan_out = [0]*self.m \n",
    "    for i in range(self.m): \n",
    "      self.fan_out[i] = (self.I // self.shape_stride[i]) % self.shape[i]\n",
    "    \n",
    "    self.fan_out = tuple(self.fan_out)\n",
    "    \n",
    "    self.fan_in = sym.Integer(0) \n",
    "    self.fan_out_sym = tuple([sym.Symbol(f\"y_{str(i)}\") for i in range(self.m)])\n",
    "    for i in range(self.m):\n",
    "      self.fan_in += self.stride[i]*self.fan_out_sym[i]\n",
    "      \n",
    "    self.layout = self._substitute(self.fan_in, self.fan_out, self.fan_out_sym)\n",
    "    \n",
    "    \n",
    "  def _substitute (self, expr: sym.Expr, new_symbols: Tuple[sym.Expr,...], old_symbols: Tuple[sym.Expr,...]): \n",
    "    new_expr = expr \n",
    "    for i in range(len(new_symbols)): \n",
    "      new_expr = new_expr.subs(old_symbols[i], new_symbols[i])\n",
    "      \n",
    "    return new_expr\n",
    "\n"
   ]
  },
  {
   "cell_type": "code",
   "execution_count": 87,
   "id": "148893c3",
   "metadata": {},
   "outputs": [],
   "source": [
    "shape = (sym.symbols('M'), sym.symbols('N')) \n",
    "stride = (sym.symbols('P'), sym.symbols('Q'))\n",
    "kind = \"mem\" \n",
    "input_symbol = sym.symbols('x')\n",
    "\n",
    "L = Layout(shape, stride, kind, input_symbol)\n"
   ]
  },
  {
   "cell_type": "code",
   "execution_count": 88,
   "id": "a665586d",
   "metadata": {},
   "outputs": [
    {
     "data": {
      "text/plain": [
       "(M, 1)"
      ]
     },
     "execution_count": 88,
     "metadata": {},
     "output_type": "execute_result"
    }
   ],
   "source": [
    "L.shape_stride"
   ]
  },
  {
   "cell_type": "code",
   "execution_count": 89,
   "id": "30a586a3",
   "metadata": {},
   "outputs": [
    {
     "data": {
      "text/plain": [
       "(Mod(floor(x/M), M), Mod(floor(x), N))"
      ]
     },
     "execution_count": 89,
     "metadata": {},
     "output_type": "execute_result"
    }
   ],
   "source": [
    "L.fan_out"
   ]
  },
  {
   "cell_type": "code",
   "execution_count": 90,
   "id": "03dd9bed",
   "metadata": {},
   "outputs": [
    {
     "data": {
      "text/latex": [
       "$\\displaystyle P y_{0} + Q y_{1}$"
      ],
      "text/plain": [
       "P*y_0 + Q*y_1"
      ]
     },
     "execution_count": 90,
     "metadata": {},
     "output_type": "execute_result"
    }
   ],
   "source": [
    "L.fan_in"
   ]
  },
  {
   "cell_type": "code",
   "execution_count": 91,
   "id": "0cb3e6eb",
   "metadata": {},
   "outputs": [
    {
     "data": {
      "text/latex": [
       "$\\displaystyle \\left(P \\left(\\left\\lfloor{\\frac{x}{M}}\\right\\rfloor \\bmod M\\right)\\right) + \\left(Q \\left(\\left\\lfloor{x}\\right\\rfloor \\bmod N\\right)\\right)$"
      ],
      "text/plain": [
       "P*(Mod(floor(x/M), M)) + Q*(Mod(floor(x), N))"
      ]
     },
     "execution_count": 91,
     "metadata": {},
     "output_type": "execute_result"
    }
   ],
   "source": [
    "L.layout"
   ]
  },
  {
   "cell_type": "code",
   "execution_count": 176,
   "id": "af8ffcb7",
   "metadata": {},
   "outputs": [],
   "source": [
    "class Layout: \n",
    "  def __init__ (self, shape: Tuple[int,...], stride: Tuple[int,...], \n",
    "                kind: str):\n",
    "    \n",
    "    assert len(shape) == len(stride) \n",
    "    self.m = len(shape)\n",
    "    self.shape = tuple([sym.Integer(shape[i]) for i in range(self.m)])\n",
    "    self.stride = tuple([sym.Integer(stride[i]) for i in range(self.m)])\n",
    "    self.S = tuple([sym.Symbol(f\"S_{str(i)}\") for i in range(self.m)])\n",
    "    self.S_S = [sym.Integer(1)]*self.m\n",
    "    self.D = tuple([sym.Symbol(f\"D_{str(i)}\") for i in range(self.m)])\n",
    "    self.I = sym.Symbol(\"x\")\n",
    "    self.N_elems = 1 \n",
    "    for i in range(self.m): \n",
    "      self.N_elems *= shape[i]\n",
    "      \n",
    "    \n",
    "    for i in reversed(range(self.m-1)): \n",
    "      self.S_S[i] = self.S[i+1]*self.S_S[i]\n",
    "      \n",
    "    self.S_S = tuple(self.S_S)  \n",
    "    \n",
    "\n",
    "    self.fan_out = [0]*self.m \n",
    "    for i in range(self.m): \n",
    "      self.fan_out[i] = (self.I // self.S_S[i]) % self.S[i]\n",
    "    \n",
    "    self.fan_out = tuple(self.fan_out)\n",
    "    \n",
    "    self.fan_in = sym.Integer(0) \n",
    "    self.fan_out_sym = tuple([sym.Symbol(f\"y_{str(i)}\") for i in range(self.m)])\n",
    "    for i in range(self.m):\n",
    "      self.fan_in += self.D[i]*self.fan_out_sym[i]\n",
    "      \n",
    "    self.layout_sym = self._substitute(self.fan_in, self.fan_out, self.fan_out_sym)\n",
    "    self.layout = self._substitute(self.layout_sym, self.shape, self.S)\n",
    "    self.layout = self._substitute(self.layout, self.stride, self.D)\n",
    "    self.realized_layout = \"un_realized\"\n",
    "    \n",
    "    \n",
    "  \n",
    "  def _substitute (self, expr: sym.Expr, new_symbols: Tuple[sym.Expr,...], old_symbols: Tuple[sym.Expr,...]): \n",
    "    new_expr = expr \n",
    "    for i in range(len(new_symbols)): \n",
    "      new_expr = new_expr.subs(old_symbols[i], new_symbols[i])\n",
    "      \n",
    "    return new_expr\n",
    "  \n",
    "  def realize(self): \n",
    "    one_d_domain = np.arange(self.N_elems) \n",
    "    layout_lambda = sym.lambdify([self.I], self.layout, \"numpy\")\n",
    "    self.realized_layout = layout_lambda(one_d_domain).astype(int)\n",
    "    \n",
    "   \n",
    "\n"
   ]
  },
  {
   "cell_type": "code",
   "execution_count": 177,
   "id": "01f3dd80",
   "metadata": {},
   "outputs": [],
   "source": [
    "shape = (16,4,2)\n",
    "stride = (17,9,1)\n",
    "L = Layout(shape, stride, \"mem\")"
   ]
  },
  {
   "cell_type": "code",
   "execution_count": 178,
   "id": "fabc156d",
   "metadata": {},
   "outputs": [
    {
     "data": {
      "text/plain": [
       "(S_0, S_1, S_2)"
      ]
     },
     "execution_count": 178,
     "metadata": {},
     "output_type": "execute_result"
    }
   ],
   "source": [
    "L.S"
   ]
  },
  {
   "cell_type": "code",
   "execution_count": 190,
   "id": "41a7fd2c",
   "metadata": {},
   "outputs": [
    {
     "data": {
      "text/latex": [
       "$\\displaystyle \\left(D_{0} \\left(\\left\\lfloor{\\frac{x}{S_{1}}}\\right\\rfloor \\bmod S_{0}\\right)\\right) + \\left(D_{1} \\left(\\left\\lfloor{\\frac{x}{S_{2}}}\\right\\rfloor \\bmod S_{1}\\right)\\right) + \\left(D_{2} \\left(\\left\\lfloor{x}\\right\\rfloor \\bmod S_{2}\\right)\\right)$"
      ],
      "text/plain": [
       "D_0*(Mod(floor(x/S_1), S_0)) + D_1*(Mod(floor(x/S_2), S_1)) + D_2*(Mod(floor(x), S_2))"
      ]
     },
     "execution_count": 190,
     "metadata": {},
     "output_type": "execute_result"
    }
   ],
   "source": [
    "L.fan_out\n",
    "L.fan_in\n",
    "L.layout_sym"
   ]
  },
  {
   "cell_type": "code",
   "execution_count": 180,
   "id": "bf7f9f0a",
   "metadata": {},
   "outputs": [
    {
     "data": {
      "text/plain": [
       "'un_realized'"
      ]
     },
     "execution_count": 180,
     "metadata": {},
     "output_type": "execute_result"
    }
   ],
   "source": [
    "L.realized_layout"
   ]
  },
  {
   "cell_type": "code",
   "execution_count": 181,
   "id": "c8ace13a",
   "metadata": {},
   "outputs": [],
   "source": [
    "L.realize()"
   ]
  },
  {
   "cell_type": "code",
   "execution_count": 182,
   "id": "cde2d49e",
   "metadata": {},
   "outputs": [
    {
     "data": {
      "text/plain": [
       "array([  0,   1,   9,  10,  35,  36,  44,  45,  34,  35,  43,  44,  69,\n",
       "        70,  78,  79,  68,  69,  77,  78, 103, 104, 112, 113, 102, 103,\n",
       "       111, 112, 137, 138, 146, 147, 136, 137, 145, 146, 171, 172, 180,\n",
       "       181, 170, 171, 179, 180, 205, 206, 214, 215, 204, 205, 213, 214,\n",
       "       239, 240, 248, 249, 238, 239, 247, 248, 273, 274, 282, 283,   0,\n",
       "         1,   9,  10,  35,  36,  44,  45,  34,  35,  43,  44,  69,  70,\n",
       "        78,  79,  68,  69,  77,  78, 103, 104, 112, 113, 102, 103, 111,\n",
       "       112, 137, 138, 146, 147, 136, 137, 145, 146, 171, 172, 180, 181,\n",
       "       170, 171, 179, 180, 205, 206, 214, 215, 204, 205, 213, 214, 239,\n",
       "       240, 248, 249, 238, 239, 247, 248, 273, 274, 282, 283])"
      ]
     },
     "execution_count": 182,
     "metadata": {},
     "output_type": "execute_result"
    }
   ],
   "source": [
    "L.realized_layout"
   ]
  },
  {
   "cell_type": "code",
   "execution_count": 200,
   "id": "0e8e58c8",
   "metadata": {},
   "outputs": [],
   "source": [
    "\n",
    "class Swizzle:\n",
    "    \n",
    "  BitAnd = sym.Function('BitAnd')\n",
    "  BitOr  = sym.Function('BitOr')\n",
    "  BitXor = sym.Function('BitXor')\n",
    "  RShift = sym.Function('RShift')\n",
    "  LShift = sym.Function('LShift')\n",
    "  BitNot = sym.Function('BitNot')\n",
    "  Max = sym.Max\n",
    "  Min = sym.Min\n",
    "\n",
    "  def __init__(self, m_base: int, b_bits: int, s_shift: int, N_elems: int):\n",
    "      \n",
    "    assert m_base >= 0 \n",
    "    assert b_bits >= 0 \n",
    "    assert abs(s_shift) >= b_bits \n",
    "    self.N_elems = N_elems\n",
    "    \n",
    "    self.m_base = sym.Integer(m_base)\n",
    "    self.b_bits = sym.Integer(b_bits)\n",
    "    self.s_shift = sym.Integer(s_shift)\n",
    "    \n",
    "    self.b = sym.Symbol('b', integer=True) \n",
    "    self.m = sym.Symbol('m', integer=True)\n",
    "    self.s = sym.Symbol('s', integer=True)\n",
    "    self.x = sym.Symbol('x', integer=True)\n",
    "\n",
    "    LShift, BitAnd, BitOr = Swizzle.LShift, Swizzle.BitAnd, Swizzle.BitOr\n",
    "    BitXor, RShift = Swizzle.BitXor, Swizzle.RShift\n",
    "    Max, Min = Swizzle.Max, Swizzle.Min\n",
    "\n",
    "    one = sym.Integer(1) \n",
    "    zero = sym.Integer(0)\n",
    "\n",
    "    base_mask = (LShift(one, self.b)) - 1\n",
    "    src_shift = self.m + Max(zero, self.s)\n",
    "    dst_shift = self.m - Min(zero, self.s)\n",
    "    \n",
    "    src_mask = LShift(base_mask, src_shift) \n",
    "    dst_mask = LShift(base_mask, dst_shift)\n",
    "    \n",
    "    bits_to_move = BitAnd(self.x, src_mask)\n",
    "    \n",
    "    self.swizzle_mask = BitOr(src_mask, dst_mask)\n",
    "    \n",
    "    expr_pos_s = BitXor(self.x, RShift(bits_to_move, self.s))\n",
    "    expr_neg_s = BitXor(self.x, LShift(bits_to_move, -self.s))\n",
    "\n",
    "    self.swizzle_map_sym = sym.Piecewise(\n",
    "        (expr_pos_s, self.s >= 0),\n",
    "        (expr_neg_s, True)\n",
    "    )\n",
    "    self.swizzle_map = self._substitute(self.swizzle_map_sym, (self.m_base, self.b_bits, self.s_shift), (self.m, self.b, self.s))\n",
    "    self.realized_swizzle_map = \"un_realized\"\n",
    "    \n",
    "\n",
    "  def __repr__(self):\n",
    "    return (\n",
    "        f\"Swizzle(\\n\"\n",
    "        f\"  symbols = ({self.b}, {self.m}, {self.s}, {self.x}),\\n\"\n",
    "        f\"  mask    = {self.swizzle_mask},\\n\"\n",
    "        f\"  map     = {self.swizzle_map_sym}\\n\"\n",
    "        f\")\"\n",
    "    )\n",
    "      \n",
    "  def _get_realization_map(self):\n",
    "    import numpy as np\n",
    "    return {\n",
    "        'BitAnd': np.bitwise_and,\n",
    "        'BitOr':  np.bitwise_or,\n",
    "        'BitXor': np.bitwise_xor,\n",
    "        'RShift': np.right_shift,\n",
    "        'LShift': np.left_shift,\n",
    "        'BitNot': np.invert,\n",
    "        'Max':    np.maximum,\n",
    "        'Min':    np.minimum\n",
    "    }\n",
    "  \n",
    "  def _substitute (self, expr: sym.Expr, new_symbols: Tuple[sym.Expr,...], old_symbols: Tuple[sym.Expr,...]): \n",
    "    new_expr = expr \n",
    "    for i in range(len(new_symbols)): \n",
    "      new_expr = new_expr.subs(old_symbols[i], new_symbols[i])\n",
    "      \n",
    "    return new_expr\n",
    "  \n",
    "  def realize(self):\n",
    "    ops = self._get_realization_map()\n",
    "    func_lamb = sym.lambdify(\n",
    "            self.x, \n",
    "            self.swizzle_map, \n",
    "            modules=['numpy', ops]\n",
    "        )\n",
    "    arr = np.arange(self.N_elems)\n",
    "    self.realized_swizzle_map = func_lamb(arr)\n",
    "  \n",
    "    \n",
    "\n"
   ]
  },
  {
   "cell_type": "code",
   "execution_count": 221,
   "id": "1d982d24",
   "metadata": {},
   "outputs": [],
   "source": [
    "A = Swizzle(0,1,-2, 64)"
   ]
  },
  {
   "cell_type": "code",
   "execution_count": 222,
   "id": "5573350e",
   "metadata": {},
   "outputs": [],
   "source": [
    "A.swizzle_map\n",
    "A.realize()"
   ]
  },
  {
   "cell_type": "code",
   "execution_count": 223,
   "id": "3e860a47",
   "metadata": {},
   "outputs": [
    {
     "name": "stdout",
     "output_type": "stream",
     "text": [
      "[ 0 -4  0 -4  0  4  0  4  0 -4  0 -4  0  4  0  4  0 -4  0 -4  0  4  0  4\n",
      "  0 -4  0 -4  0  4  0  4  0 -4  0 -4  0  4  0  4  0 -4  0 -4  0  4  0  4\n",
      "  0 -4  0 -4  0  4  0  4  0 -4  0 -4  0  4  0  4]\n"
     ]
    }
   ],
   "source": [
    "x = A.realized_swizzle_map\n",
    "y = np.arange(64)\n",
    "print(y-x)"
   ]
  },
  {
   "cell_type": "code",
   "execution_count": null,
   "id": "9bfa7807",
   "metadata": {},
   "outputs": [],
   "source": []
  }
 ],
 "metadata": {
  "kernelspec": {
   "display_name": "internal_venv (3.13.3)",
   "language": "python",
   "name": "python3"
  },
  "language_info": {
   "codemirror_mode": {
    "name": "ipython",
    "version": 3
   },
   "file_extension": ".py",
   "mimetype": "text/x-python",
   "name": "python",
   "nbconvert_exporter": "python",
   "pygments_lexer": "ipython3",
   "version": "3.13.3"
  }
 },
 "nbformat": 4,
 "nbformat_minor": 5
}
