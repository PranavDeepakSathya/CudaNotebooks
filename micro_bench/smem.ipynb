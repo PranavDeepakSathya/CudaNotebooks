{
 "cells": [
  {
   "cell_type": "code",
   "execution_count": 1,
   "id": "5e7ab0ff",
   "metadata": {},
   "outputs": [
    {
     "name": "stdout",
     "output_type": "stream",
     "text": [
      "Source files will be saved in \"/tmp/tmpj16ux_ig\".\n"
     ]
    }
   ],
   "source": [
    "%load_ext nvcc4jupyter\n",
    "\n",
    "from nvcc4jupyter import set_defaults\n",
    "set_defaults(compiler_args='-arch=sm_100a -Xptxas=-v')"
   ]
  },
  {
   "cell_type": "markdown",
   "id": "65a88420",
   "metadata": {},
   "source": []
  },
  {
   "cell_type": "markdown",
   "id": "1ebc72d6",
   "metadata": {},
   "source": [
    "# GOD I AM SO HAPPY, SO HAPPY, THAT JUPYTER IN REMOTE SSH IS WORKING AGAIN! LETS DO SOME SMEM STUFF BABYYYYYY. "
   ]
  },
  {
   "cell_type": "code",
   "execution_count": 34,
   "id": "3b7215bd",
   "metadata": {},
   "outputs": [
    {
     "name": "stdout",
     "output_type": "stream",
     "text": [
      "GPU Kernel time: 0.752800 ms\n",
      "mega_loads/bank/second = 1062.699219 \n",
      "Device: NVIDIA GeForce RTX 5060 Ti\n",
      "Base SM Clock Rate: 2602.00 MHz\n",
      "\n"
     ]
    }
   ],
   "source": [
    "%%cuda\n",
    "\n",
    "#include<stdio.h> \n",
    "#include<stdlib.h>\n",
    "#include<cuda.h>\n",
    "#include<cuda_runtime.h> \n",
    "\n",
    "constexpr int N_iter = 100000;\n",
    "constexpr int N_warps = 8;\n",
    "constexpr int N_lanes = 32;\n",
    "constexpr int N_blocks = 1;\n",
    "\n",
    "__global__ void smem_no_bc()\n",
    "{\n",
    "  __shared__ float A[N_warps][N_lanes];\n",
    "  int warp_id = threadIdx.y; \n",
    "  int lane_id = threadIdx.x; \n",
    "  \n",
    "  float* ptr = &A[warp_id][lane_id];\n",
    "  int addr = (int)ptr & 0xFFFF; //#0x is just a prefix meaning its hexadecimal \n",
    "  //# each F is a 15, and each digit is worth that power of 16. \n",
    "  //# in fact this number is 2^16 + 1, which means we are bit masking with the and \n",
    "  //# and extracting the first 16 digits of our pointer. but why? \n",
    "  /*\n",
    "  \"\"\"\n",
    "  well really, each address is worth a byte (8 bits) and so how many bytes do we have in this shared memory?\n",
    "  we have 8*32 bytes, so we have 8*8*32 bits, so its enough for our adress to be that big \n",
    "  well 8*8*32 = 2^6 * 2^5 = 2^11, \n",
    "  \n",
    "  but the adress itself, if you do addr + 1, you are moving 8 bits (or 1 byte) \n",
    "  so then, if we have 2^16 - 1 addrs, we are guuci, but idk whats more to this nvm\n",
    "  \"\"\"\n",
    "  */\n",
    "  float r1;\n",
    "  \n",
    "  for (int j = 0; j < N_iter; j++) {\n",
    "      asm volatile (\"ld.volatile.shared.f32 %0, [%1];\"\n",
    "                      : \"=f\"(r1)\n",
    "                      : \"r\"(addr));\n",
    "  }\n",
    "  \n",
    "  //#__syncthreads(); (does this make things slow??)\n",
    "  \n",
    "}\n",
    "\n",
    "int main()\n",
    "{\n",
    "   \n",
    "  cudaEvent_t start, stop;\n",
    "  cudaEventCreate(&start);\n",
    "  cudaEventCreate(&stop);\n",
    "\n",
    " \n",
    "  cudaEventRecord(start, 0);\n",
    "\n",
    " \n",
    "  //#weirdly enough, it is actually threadidx.x that has stride one, even tho its \n",
    "  //#on the left of the tuple. so we gotta be careful about that launch\n",
    "  dim3 threads(N_lanes, N_warps);\n",
    "  dim3 grid(N_blocks);\n",
    "  \n",
    "  smem_no_bc<<<grid, threads>>>();\n",
    "\n",
    "\n",
    "  cudaEventRecord(stop, 0);\n",
    "  cudaEventSynchronize(stop);\n",
    "\n",
    "  float milliseconds = 0;\n",
    "  cudaEventElapsedTime(&milliseconds, start, stop);\n",
    "  printf(\"GPU Kernel time: %f ms\\n\", milliseconds);\n",
    "  \n",
    "  \n",
    "  /*\n",
    "  \"\"\"\n",
    "  so how do we calculate our memory transfer speed, well, we have N_warps warps, \n",
    "  so per iteration, we issue N_warp loads per bank, so our speed will be \n",
    "  N_loads/bank/second. \n",
    "  so for N_iter iterations, \n",
    "  smem_bank_speed = (N_warps*N_iter)/time \n",
    "  \"\"\"\n",
    "  */\n",
    "  float seconds = milliseconds*0.001;\n",
    "  float mega = 1000000.0;\n",
    "  printf(\"mega_loads/bank/second = %f \\n\", (N_warps*N_iter)/(seconds*mega));\n",
    "  \n",
    "  int deviceId;\n",
    "  cudaGetDevice(&deviceId);\n",
    "  \n",
    "  cudaDeviceProp prop;\n",
    "  cudaGetDeviceProperties(&prop, deviceId);\n",
    "  \n",
    "\n",
    "  double smClockMHz = prop.clockRate / 1000.0;\n",
    "  \n",
    "  printf(\"Device: %s\\n\", prop.name);\n",
    "  printf(\"Base SM Clock Rate: %.2f MHz\\n\", smClockMHz);\n",
    "}"
   ]
  },
  {
   "cell_type": "code",
   "execution_count": 7,
   "id": "53ce823f",
   "metadata": {},
   "outputs": [
    {
     "name": "stdout",
     "output_type": "stream",
     "text": [
      "11.0\n"
     ]
    }
   ],
   "source": [
    "import math \n",
    "print(math.log((8*8*32), 2))"
   ]
  },
  {
   "cell_type": "code",
   "execution_count": null,
   "id": "bb8ee2a8",
   "metadata": {},
   "outputs": [],
   "source": []
  }
 ],
 "metadata": {
  "kernelspec": {
   "display_name": ".venv (3.12.11)",
   "language": "python",
   "name": "python3"
  },
  "language_info": {
   "codemirror_mode": {
    "name": "ipython",
    "version": 3
   },
   "file_extension": ".py",
   "mimetype": "text/x-python",
   "name": "python",
   "nbconvert_exporter": "python",
   "pygments_lexer": "ipython3",
   "version": "3.12.11"
  }
 },
 "nbformat": 4,
 "nbformat_minor": 5
}
