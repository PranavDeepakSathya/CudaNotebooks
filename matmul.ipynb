{
 "cells": [
  {
   "cell_type": "code",
   "execution_count": 2,
   "id": "0816d414",
   "metadata": {},
   "outputs": [
    {
     "name": "stdout",
     "output_type": "stream",
     "text": [
      "Source files will be saved in \"/tmp/tmpiqorzl79\".\n",
      "[[0.000.330.671.00]\n",
      " [1.331.672.002.33]\n",
      " [2.673.003.333.67]]\n"
     ]
    }
   ],
   "source": [
    "%load_ext nvcc4jupyter\n",
    "\n",
    "from nvcc4jupyter import set_defaults\n",
    "set_defaults(compiler_args='-arch=sm_100a -Xptxas=-v')\n",
    "\n",
    "import numpy as np\n",
    "import sys\n",
    "\n",
    "\n",
    "\n",
    "np.set_printoptions(\n",
    "    threshold=sys.maxsize,       # show the entire array\n",
    "    precision=2,            # 2 decimal places\n",
    "    suppress=True,          # no scientific notation\n",
    "    floatmode='fixed',      # consistent decimal formatting\n",
    "    linewidth=np.inf,       # prevent line wrapping\n",
    "\n",
    ")\n",
    "\n",
    "# example array\n",
    "a = np.arange(12).reshape(3,4) / 3.0\n",
    "\n",
    "# create string with exact control\n",
    "s = np.array2string(\n",
    "    a,\n",
    "    max_line_width=10**6,                     # avoid wrapping\n",
    "    precision=2,                              # float precision\n",
    "    separator='',                             # <-- no commas/spaces between elements\n",
    "    formatter={'float_kind': lambda x: f\"{x:.2f}\"},\n",
    "    threshold=sys.maxsize,                    # show whole array\n",
    "    floatmode='fixed'                         # fixed-point formatting\n",
    ")\n",
    "\n",
    "print(s)\n"
   ]
  },
  {
   "cell_type": "code",
   "execution_count": 3,
   "id": "3b08c022",
   "metadata": {},
   "outputs": [],
   "source": [
    "\n",
    "class matmul_spec: \n",
    "  \n",
    "  def __init__ (self, M,N,K, threads_per_block, max_n_blocks_per_SMs, n_SMs, TM, BM, BK):\n",
    "    # Storing inputs for a complete representation \n",
    "    self.M = M\n",
    "    self.N = N\n",
    "    self.K_dim = K # Renamed K to K_dim to avoid potential conflict/confusion\n",
    "    self.TM = TM\n",
    "    self.BM = BM\n",
    "    self.BK = BK\n",
    "    self.n_SMs = n_SMs\n",
    "    self.max_n_blocks_per_SMs = max_n_blocks_per_SMs\n",
    "\n",
    "    self.n_compute = M*N  #the number of elements of C that we need to compute\n",
    "    self.tpb = threads_per_block \n",
    "    self.bpg = max_n_blocks_per_SMs * n_SMs \n",
    "    \n",
    "    # Ensure WPT calculation handles the case where the divisor is zero to prevent errors\n",
    "    divisor = self.tpb * self.bpg\n",
    "    self.WPT = self.n_compute // divisor if divisor != 0 else np.inf\n",
    "    \n",
    "    self.WPB = self.WPT * self.tpb\n",
    "    \n",
    "    # Tiling calculations\n",
    "    self.thread_tile = (TM, self.WPT//TM)\n",
    "    self.block_tile = (BM, self.WPB//BM)\n",
    "    self.A_load_tile = (BM, BK)\n",
    "    self.B_load_tile = (BK, self.WPB//BM)\n",
    "    \n",
    "  def __repr__(self):\n",
    "    \"\"\"\n",
    "    Provides a quick, readable representation of the matmul_spec object, \n",
    "    displaying both configuration and calculated workload/tiling.\n",
    "    \"\"\"\n",
    "    return (\n",
    "        f\"matmul_spec(\\n\"\n",
    "        f\"  --- CONFIGURATION ---\\n\"\n",
    "        f\"  Matrix Dims:    (M={self.M}, N={self.N}, K={self.K_dim})\\n\"\n",
    "        f\"  Hardware:       (n_SMs={self.n_SMs}, max_blocks_per_SM={self.max_n_blocks_per_SMs})\\n\"\n",
    "        f\"  Tiling (Base):  (TM={self.TM}, BM={self.BM}, BK={self.BK})\\n\"\n",
    "        f\"  \\n\"\n",
    "        f\"  --- CALCULATED SPECS ---\\n\"\n",
    "        f\"  Total Elements (C): {self.n_compute}\\n\"\n",
    "        f\"  Threads/Block (tpb): {self.tpb}\\n\"\n",
    "        f\"  Blocks/Grid (bpg):  {self.bpg}\\n\"\n",
    "        f\"  Work/Thread (WPT):  {self.WPT}\\n\"\n",
    "        f\"  Work/Block (WPB):   {self.WPB}\\n\"\n",
    "        f\"  \\n\"\n",
    "        f\"  --- TILES ---\\n\"\n",
    "        f\"  C Thread Tile:  {self.thread_tile}\\n\"\n",
    "        f\"  C Block Tile:   {self.block_tile}\\n\"\n",
    "        f\"  A Load Tile:    {self.A_load_tile}\\n\"\n",
    "        f\"  B Load Tile:    {self.B_load_tile}\\n\"\n",
    "        f\")\"\n",
    "    )\n",
    "\n",
    "# Example usage (for testing)\n",
    "\n",
    "\n",
    "  \n",
    "    "
   ]
  },
  {
   "cell_type": "code",
   "execution_count": 4,
   "id": "472d833e",
   "metadata": {},
   "outputs": [
    {
     "ename": "FileNotFoundError",
     "evalue": "[Errno 2] No such file or directory: 'nvcc'",
     "output_type": "error",
     "traceback": [
      "\u001b[31m---------------------------------------------------------------------------\u001b[39m",
      "\u001b[31mFileNotFoundError\u001b[39m                         Traceback (most recent call last)",
      "\u001b[36mCell\u001b[39m\u001b[36m \u001b[39m\u001b[32mIn[4]\u001b[39m\u001b[32m, line 1\u001b[39m\n\u001b[32m----> \u001b[39m\u001b[32m1\u001b[39m \u001b[43mget_ipython\u001b[49m\u001b[43m(\u001b[49m\u001b[43m)\u001b[49m\u001b[43m.\u001b[49m\u001b[43mrun_cell_magic\u001b[49m\u001b[43m(\u001b[49m\u001b[33;43m'\u001b[39;49m\u001b[33;43mcuda\u001b[39;49m\u001b[33;43m'\u001b[39;49m\u001b[43m,\u001b[49m\u001b[43m \u001b[49m\u001b[33;43m'\u001b[39;49m\u001b[33;43m'\u001b[39;49m\u001b[43m,\u001b[49m\u001b[43m \u001b[49m\u001b[33;43m'\u001b[39;49m\u001b[33;43m#include <cuda_runtime.h> \u001b[39;49m\u001b[38;5;130;43;01m\\n\u001b[39;49;00m\u001b[33;43m#include <cuda.h> \u001b[39;49m\u001b[38;5;130;43;01m\\n\u001b[39;49;00m\u001b[33;43m#include<cooperative_groups.h> \u001b[39;49m\u001b[38;5;130;43;01m\\n\u001b[39;49;00m\u001b[33;43m#include<stdlib.h>\u001b[39;49m\u001b[38;5;130;43;01m\\n\u001b[39;49;00m\u001b[33;43m#include<stdio.h>\u001b[39;49m\u001b[38;5;130;43;01m\\n\u001b[39;49;00m\u001b[33;43m/*\u001b[39;49m\u001b[38;5;130;43;01m\\n\u001b[39;49;00m\u001b[33;43minstead of being a pussy ass bitch, lets thing about a basic smem reduction kernel. \u001b[39;49m\u001b[38;5;130;43;01m\\n\u001b[39;49;00m\u001b[33;43msay N is our big problem size, and BN is what a singular block would work on. \u001b[39;49m\u001b[38;5;130;43;01m\\n\u001b[39;49;00m\u001b[33;43mindeed the partition [0, BN-1], [BN, 2BN-1]... [(k-1)BN, N-1] would be a k blocks. \u001b[39;49m\u001b[38;5;130;43;01m\\n\u001b[39;49;00m\u001b[33;43mAnd this partition is okay, because shared memory and shit is per block. \u001b[39;49m\u001b[38;5;130;43;01m\\n\u001b[39;49;00m\u001b[33;43mSo, we have num_TPB threads in a block, ITS MATHIN TIME \u001b[39;49m\u001b[38;5;130;43;01m\\n\u001b[39;49;00m\u001b[38;5;130;43;01m\\n\u001b[39;49;00m\u001b[33;43m*/\u001b[39;49m\u001b[38;5;130;43;01m\\n\u001b[39;49;00m\u001b[38;5;130;43;01m\\n\u001b[39;49;00m\u001b[38;5;130;43;01m\\n\u001b[39;49;00m\u001b[33;43m__global__ void grid_sync_reduction(float* A_in, float*A_out)\u001b[39;49m\u001b[38;5;130;43;01m\\n\u001b[39;49;00m\u001b[33;43m{\u001b[39;49m\u001b[38;5;130;43;01m\\n\u001b[39;49;00m\u001b[38;5;130;43;01m\\n\u001b[39;49;00m\u001b[33;43m}\u001b[39;49m\u001b[38;5;130;43;01m\\n\u001b[39;49;00m\u001b[38;5;130;43;01m\\n\u001b[39;49;00m\u001b[33;43m#define CUDA_CHECK(call)                                                          \u001b[39;49m\u001b[38;5;130;43;01m\\\\\u001b[39;49;00m\u001b[38;5;130;43;01m\\n\u001b[39;49;00m\u001b[33;43m    do \u001b[39;49m\u001b[33;43m{\u001b[39;49m\u001b[33;43m                                                                          \u001b[39;49m\u001b[38;5;130;43;01m\\\\\u001b[39;49;00m\u001b[38;5;130;43;01m\\n\u001b[39;49;00m\u001b[33;43m        cudaError_t err = call;                                                   \u001b[39;49m\u001b[38;5;130;43;01m\\\\\u001b[39;49;00m\u001b[38;5;130;43;01m\\n\u001b[39;49;00m\u001b[33;43m        if (err != cudaSuccess) \u001b[39;49m\u001b[33;43m{\u001b[39;49m\u001b[33;43m                                                 \u001b[39;49m\u001b[38;5;130;43;01m\\\\\u001b[39;49;00m\u001b[38;5;130;43;01m\\n\u001b[39;49;00m\u001b[33;43m            fprintf(stderr, \u001b[39;49m\u001b[33;43m\"\u001b[39;49m\u001b[33;43mCUDA Error at \u001b[39;49m\u001b[38;5;132;43;01m%s\u001b[39;49;00m\u001b[33;43m:\u001b[39;49m\u001b[38;5;132;43;01m%d\u001b[39;49;00m\u001b[33;43m: \u001b[39;49m\u001b[38;5;132;43;01m%s\u001b[39;49;00m\u001b[38;5;130;43;01m\\\\\u001b[39;49;00m\u001b[33;43mn\u001b[39;49m\u001b[33;43m\"\u001b[39;49m\u001b[33;43m,                          \u001b[39;49m\u001b[38;5;130;43;01m\\\\\u001b[39;49;00m\u001b[38;5;130;43;01m\\n\u001b[39;49;00m\u001b[33;43m                    __FILE__, __LINE__, cudaGetErrorString(err));                 \u001b[39;49m\u001b[38;5;130;43;01m\\\\\u001b[39;49;00m\u001b[38;5;130;43;01m\\n\u001b[39;49;00m\u001b[33;43m            return 1;                                                             \u001b[39;49m\u001b[38;5;130;43;01m\\\\\u001b[39;49;00m\u001b[38;5;130;43;01m\\n\u001b[39;49;00m\u001b[33;43m        }                                                                         \u001b[39;49m\u001b[38;5;130;43;01m\\\\\u001b[39;49;00m\u001b[38;5;130;43;01m\\n\u001b[39;49;00m\u001b[33;43m    } while (0)\u001b[39;49m\u001b[38;5;130;43;01m\\n\u001b[39;49;00m\u001b[38;5;130;43;01m\\n\u001b[39;49;00m\u001b[33;43mint main ()\u001b[39;49m\u001b[38;5;130;43;01m\\n\u001b[39;49;00m\u001b[33;43m{\u001b[39;49m\u001b[38;5;130;43;01m\\n\u001b[39;49;00m\u001b[33;43m  int device = 0; \u001b[39;49m\u001b[38;5;130;43;01m\\n\u001b[39;49;00m\u001b[33;43m  int supports_coop_launch = 0; \u001b[39;49m\u001b[38;5;130;43;01m\\n\u001b[39;49;00m\u001b[33;43m  int num_TPB = 32*16; \u001b[39;49m\u001b[38;5;130;43;01m\\n\u001b[39;49;00m\u001b[33;43m  int blocks_per_sm = 0; \u001b[39;49m\u001b[38;5;130;43;01m\\n\u001b[39;49;00m\u001b[33;43m  cudaDeviceProp deviceProp;\u001b[39;49m\u001b[38;5;130;43;01m\\n\u001b[39;49;00m\u001b[33;43m  int num_SMs_on_device = 0;\u001b[39;49m\u001b[38;5;130;43;01m\\n\u001b[39;49;00m\u001b[33;43m  int K_num_blocks = 0;\u001b[39;49m\u001b[38;5;130;43;01m\\n\u001b[39;49;00m\u001b[38;5;130;43;01m\\n\u001b[39;49;00m\u001b[33;43m  // 1. Get Cooperative Launch Attribute\u001b[39;49m\u001b[38;5;130;43;01m\\n\u001b[39;49;00m\u001b[33;43m  CUDA_CHECK(cudaDeviceGetAttribute(&supports_coop_launch, cudaDevAttrCooperativeLaunch, device));\u001b[39;49m\u001b[38;5;130;43;01m\\n\u001b[39;49;00m\u001b[38;5;130;43;01m\\n\u001b[39;49;00m\u001b[33;43m  // 2. Get Device Properties\u001b[39;49m\u001b[38;5;130;43;01m\\n\u001b[39;49;00m\u001b[33;43m  CUDA_CHECK(cudaGetDeviceProperties(&deviceProp, device));\u001b[39;49m\u001b[38;5;130;43;01m\\n\u001b[39;49;00m\u001b[33;43m  num_SMs_on_device = deviceProp.multiProcessorCount;\u001b[39;49m\u001b[38;5;130;43;01m\\n\u001b[39;49;00m\u001b[38;5;130;43;01m\\n\u001b[39;49;00m\u001b[33;43m  // 3. Calculate Occupancy (Max Active Blocks Per SM)\u001b[39;49m\u001b[38;5;130;43;01m\\n\u001b[39;49;00m\u001b[33;43m  // This assumes \u001b[39;49m\u001b[38;5;130;43;01m\\'\u001b[39;49;00m\u001b[33;43mgrid_sync_reduction\u001b[39;49m\u001b[38;5;130;43;01m\\'\u001b[39;49;00m\u001b[33;43m is the actual kernel name.\u001b[39;49m\u001b[38;5;130;43;01m\\n\u001b[39;49;00m\u001b[33;43m  CUDA_CHECK(cudaOccupancyMaxActiveBlocksPerMultiprocessor(&blocks_per_sm, (void*)grid_sync_reduction, num_TPB, 0));\u001b[39;49m\u001b[38;5;130;43;01m\\n\u001b[39;49;00m\u001b[38;5;130;43;01m\\n\u001b[39;49;00m\u001b[33;43m  // 4. Calculate Total Co-Schedulable Blocks\u001b[39;49m\u001b[38;5;130;43;01m\\n\u001b[39;49;00m\u001b[33;43m  K_num_blocks = blocks_per_sm * num_SMs_on_device;\u001b[39;49m\u001b[38;5;130;43;01m\\n\u001b[39;49;00m\u001b[38;5;130;43;01m\\n\u001b[39;49;00m\u001b[33;43m  // ----------------------------------------------------------------------\u001b[39;49m\u001b[38;5;130;43;01m\\n\u001b[39;49;00m\u001b[33;43m  // --- Pretty Print of all important numbers ---\u001b[39;49m\u001b[38;5;130;43;01m\\n\u001b[39;49;00m\u001b[33;43m  printf(\u001b[39;49m\u001b[33;43m\"\u001b[39;49m\u001b[38;5;130;43;01m\\\\\u001b[39;49;00m\u001b[33;43mn--- CUDA Device Occupancy Analysis (Device \u001b[39;49m\u001b[38;5;132;43;01m%d\u001b[39;49;00m\u001b[33;43m) ---\u001b[39;49m\u001b[38;5;130;43;01m\\\\\u001b[39;49;00m\u001b[33;43mn\u001b[39;49m\u001b[33;43m\"\u001b[39;49m\u001b[33;43m, device);\u001b[39;49m\u001b[38;5;130;43;01m\\n\u001b[39;49;00m\u001b[33;43m  printf(\u001b[39;49m\u001b[33;43m\"\u001b[39;49m\u001b[33;43mDevice Name: \u001b[39;49m\u001b[38;5;132;43;01m%s\u001b[39;49;00m\u001b[38;5;130;43;01m\\\\\u001b[39;49;00m\u001b[33;43mn\u001b[39;49m\u001b[33;43m\"\u001b[39;49m\u001b[33;43m, deviceProp.name);\u001b[39;49m\u001b[38;5;130;43;01m\\n\u001b[39;49;00m\u001b[33;43m  printf(\u001b[39;49m\u001b[33;43m\"\u001b[39;49m\u001b[33;43m----------------------------------------------------\u001b[39;49m\u001b[38;5;130;43;01m\\\\\u001b[39;49;00m\u001b[33;43mn\u001b[39;49m\u001b[33;43m\"\u001b[39;49m\u001b[33;43m);\u001b[39;49m\u001b[38;5;130;43;01m\\n\u001b[39;49;00m\u001b[33;43m  printf(\u001b[39;49m\u001b[33;43m\"\u001b[39;49m\u001b[33;43m1. Supports Cooperative Launch:         \u001b[39;49m\u001b[38;5;132;43;01m%s\u001b[39;49;00m\u001b[33;43m (\u001b[39;49m\u001b[38;5;132;43;01m%d\u001b[39;49;00m\u001b[33;43m)\u001b[39;49m\u001b[38;5;130;43;01m\\\\\u001b[39;49;00m\u001b[33;43mn\u001b[39;49m\u001b[33;43m\"\u001b[39;49m\u001b[33;43m, \u001b[39;49m\u001b[38;5;130;43;01m\\n\u001b[39;49;00m\u001b[33;43m         supports_coop_launch ? \u001b[39;49m\u001b[33;43m\"\u001b[39;49m\u001b[33;43mYes\u001b[39;49m\u001b[33;43m\"\u001b[39;49m\u001b[33;43m : \u001b[39;49m\u001b[33;43m\"\u001b[39;49m\u001b[33;43mNo\u001b[39;49m\u001b[33;43m\"\u001b[39;49m\u001b[33;43m, supports_coop_launch);\u001b[39;49m\u001b[38;5;130;43;01m\\n\u001b[39;49;00m\u001b[33;43m  printf(\u001b[39;49m\u001b[33;43m\"\u001b[39;49m\u001b[33;43m2. Kernel Threads Per Block (num_TPB):  \u001b[39;49m\u001b[38;5;132;43;01m%d\u001b[39;49;00m\u001b[38;5;130;43;01m\\\\\u001b[39;49;00m\u001b[33;43mn\u001b[39;49m\u001b[33;43m\"\u001b[39;49m\u001b[33;43m, num_TPB);\u001b[39;49m\u001b[38;5;130;43;01m\\n\u001b[39;49;00m\u001b[33;43m  printf(\u001b[39;49m\u001b[33;43m\"\u001b[39;49m\u001b[33;43m3. Number of Streaming Multiprocessors: \u001b[39;49m\u001b[38;5;132;43;01m%d\u001b[39;49;00m\u001b[38;5;130;43;01m\\\\\u001b[39;49;00m\u001b[33;43mn\u001b[39;49m\u001b[33;43m\"\u001b[39;49m\u001b[33;43m, num_SMs_on_device);\u001b[39;49m\u001b[38;5;130;43;01m\\n\u001b[39;49;00m\u001b[33;43m  printf(\u001b[39;49m\u001b[33;43m\"\u001b[39;49m\u001b[33;43m4. Max Active Blocks Per SM (Occupancy):\u001b[39;49m\u001b[38;5;132;43;01m%d\u001b[39;49;00m\u001b[38;5;130;43;01m\\\\\u001b[39;49;00m\u001b[33;43mn\u001b[39;49m\u001b[33;43m\"\u001b[39;49m\u001b[33;43m, blocks_per_sm);\u001b[39;49m\u001b[38;5;130;43;01m\\n\u001b[39;49;00m\u001b[33;43m  printf(\u001b[39;49m\u001b[33;43m\"\u001b[39;49m\u001b[33;43m5. Total Co-Schedulable Blocks (K_num_blocks):\u001b[39;49m\u001b[38;5;130;43;01m\\\\\u001b[39;49;00m\u001b[33;43mn\u001b[39;49m\u001b[33;43m\"\u001b[39;49m\u001b[33;43m);\u001b[39;49m\u001b[38;5;130;43;01m\\n\u001b[39;49;00m\u001b[33;43m  printf(\u001b[39;49m\u001b[33;43m\"\u001b[39;49m\u001b[33;43m   (SMs * Blocks/SM) = \u001b[39;49m\u001b[38;5;132;43;01m%d\u001b[39;49;00m\u001b[33;43m * \u001b[39;49m\u001b[38;5;132;43;01m%d\u001b[39;49;00m\u001b[33;43m = \u001b[39;49m\u001b[38;5;132;43;01m%d\u001b[39;49;00m\u001b[38;5;130;43;01m\\\\\u001b[39;49;00m\u001b[33;43mn\u001b[39;49m\u001b[33;43m\"\u001b[39;49m\u001b[33;43m, num_SMs_on_device, blocks_per_sm, K_num_blocks);\u001b[39;49m\u001b[38;5;130;43;01m\\n\u001b[39;49;00m\u001b[33;43m  printf(\u001b[39;49m\u001b[33;43m\"\u001b[39;49m\u001b[33;43m----------------------------------------------------\u001b[39;49m\u001b[38;5;130;43;01m\\\\\u001b[39;49;00m\u001b[33;43mn\u001b[39;49m\u001b[38;5;130;43;01m\\\\\u001b[39;49;00m\u001b[33;43mn\u001b[39;49m\u001b[33;43m\"\u001b[39;49m\u001b[33;43m);\u001b[39;49m\u001b[38;5;130;43;01m\\n\u001b[39;49;00m\u001b[38;5;130;43;01m\\n\u001b[39;49;00m\u001b[33;43m  return 0;\u001b[39;49m\u001b[38;5;130;43;01m\\n\u001b[39;49;00m\u001b[33;43m}\u001b[39;49m\u001b[38;5;130;43;01m\\n\u001b[39;49;00m\u001b[33;43m'\u001b[39;49m\u001b[43m)\u001b[49m\n",
      "\u001b[36mFile \u001b[39m\u001b[32m~/CudaNotebooks/.venv/lib/python3.13/site-packages/IPython/core/interactiveshell.py:2565\u001b[39m, in \u001b[36mInteractiveShell.run_cell_magic\u001b[39m\u001b[34m(self, magic_name, line, cell)\u001b[39m\n\u001b[32m   2563\u001b[39m \u001b[38;5;28;01mwith\u001b[39;00m \u001b[38;5;28mself\u001b[39m.builtin_trap:\n\u001b[32m   2564\u001b[39m     args = (magic_arg_s, cell)\n\u001b[32m-> \u001b[39m\u001b[32m2565\u001b[39m     result = \u001b[43mfn\u001b[49m\u001b[43m(\u001b[49m\u001b[43m*\u001b[49m\u001b[43margs\u001b[49m\u001b[43m,\u001b[49m\u001b[43m \u001b[49m\u001b[43m*\u001b[49m\u001b[43m*\u001b[49m\u001b[43mkwargs\u001b[49m\u001b[43m)\u001b[49m\n\u001b[32m   2567\u001b[39m \u001b[38;5;66;03m# The code below prevents the output from being displayed\u001b[39;00m\n\u001b[32m   2568\u001b[39m \u001b[38;5;66;03m# when using magics with decorator @output_can_be_silenced\u001b[39;00m\n\u001b[32m   2569\u001b[39m \u001b[38;5;66;03m# when the last Python token in the expression is a ';'.\u001b[39;00m\n\u001b[32m   2570\u001b[39m \u001b[38;5;28;01mif\u001b[39;00m \u001b[38;5;28mgetattr\u001b[39m(fn, magic.MAGIC_OUTPUT_CAN_BE_SILENCED, \u001b[38;5;28;01mFalse\u001b[39;00m):\n",
      "\u001b[36mFile \u001b[39m\u001b[32m~/CudaNotebooks/.venv/lib/python3.13/site-packages/nvcc4jupyter/plugin.py:306\u001b[39m, in \u001b[36mNVCCPlugin.cuda\u001b[39m\u001b[34m(self, line, cell)\u001b[39m\n\u001b[32m    299\u001b[39m group_name = \u001b[38;5;28mstr\u001b[39m(uuid.uuid4())\n\u001b[32m    300\u001b[39m \u001b[38;5;28mself\u001b[39m._save_source(\n\u001b[32m    301\u001b[39m     source_name=\u001b[33m\"\u001b[39m\u001b[33msingle_file.cu\u001b[39m\u001b[33m\"\u001b[39m,\n\u001b[32m    302\u001b[39m     source_code=cell,\n\u001b[32m    303\u001b[39m     group_name=group_name,\n\u001b[32m    304\u001b[39m )\n\u001b[32m--> \u001b[39m\u001b[32m306\u001b[39m output = \u001b[38;5;28;43mself\u001b[39;49m\u001b[43m.\u001b[49m\u001b[43m_compile_and_run\u001b[49m\u001b[43m(\u001b[49m\u001b[43mgroup_name\u001b[49m\u001b[43m,\u001b[49m\u001b[43m \u001b[49m\u001b[43margs\u001b[49m\u001b[43m)\u001b[49m\n\u001b[32m    307\u001b[39m print_out(output)\n",
      "\u001b[36mFile \u001b[39m\u001b[32m~/CudaNotebooks/.venv/lib/python3.13/site-packages/nvcc4jupyter/plugin.py:235\u001b[39m, in \u001b[36mNVCCPlugin._compile_and_run\u001b[39m\u001b[34m(self, group_name, args)\u001b[39m\n\u001b[32m    231\u001b[39m \u001b[38;5;28;01mdef\u001b[39;00m\u001b[38;5;250m \u001b[39m\u001b[34m_compile_and_run\u001b[39m(\n\u001b[32m    232\u001b[39m     \u001b[38;5;28mself\u001b[39m, group_name: \u001b[38;5;28mstr\u001b[39m, args: argparse.Namespace\n\u001b[32m    233\u001b[39m ) -> \u001b[38;5;28mstr\u001b[39m:\n\u001b[32m    234\u001b[39m     \u001b[38;5;28;01mtry\u001b[39;00m:\n\u001b[32m--> \u001b[39m\u001b[32m235\u001b[39m         exec_fpath = \u001b[38;5;28;43mself\u001b[39;49m\u001b[43m.\u001b[49m\u001b[43m_compile\u001b[49m\u001b[43m(\u001b[49m\n\u001b[32m    236\u001b[39m \u001b[43m            \u001b[49m\u001b[43mgroup_name\u001b[49m\u001b[43m=\u001b[49m\u001b[43mgroup_name\u001b[49m\u001b[43m,\u001b[49m\n\u001b[32m    237\u001b[39m \u001b[43m            \u001b[49m\u001b[43mcompiler_args\u001b[49m\u001b[43m=\u001b[49m\u001b[43margs\u001b[49m\u001b[43m.\u001b[49m\u001b[43mcompiler_args\u001b[49m\u001b[43m(\u001b[49m\u001b[43m)\u001b[49m\u001b[43m,\u001b[49m\n\u001b[32m    238\u001b[39m \u001b[43m        \u001b[49m\u001b[43m)\u001b[49m\n\u001b[32m    239\u001b[39m         output = \u001b[38;5;28mself\u001b[39m._run(\n\u001b[32m    240\u001b[39m             exec_fpath=exec_fpath,\n\u001b[32m    241\u001b[39m             timeit=args.timeit,\n\u001b[32m   (...)\u001b[39m\u001b[32m    244\u001b[39m             profiler_args=args.profiler_args(),\n\u001b[32m    245\u001b[39m         )\n\u001b[32m    246\u001b[39m     \u001b[38;5;28;01mexcept\u001b[39;00m subprocess.CalledProcessError \u001b[38;5;28;01mas\u001b[39;00m e:\n",
      "\u001b[36mFile \u001b[39m\u001b[32m~/CudaNotebooks/.venv/lib/python3.13/site-packages/nvcc4jupyter/plugin.py:147\u001b[39m, in \u001b[36mNVCCPlugin._compile\u001b[39m\u001b[34m(self, group_name, executable_fname, compiler_args)\u001b[39m\n\u001b[32m    144\u001b[39m args.extend(source_files)\n\u001b[32m    145\u001b[39m args.extend([\u001b[33m\"\u001b[39m\u001b[33m-o\u001b[39m\u001b[33m\"\u001b[39m, executable_fpath, \u001b[33m\"\u001b[39m\u001b[33m-Wno-deprecated-gpu-targets\u001b[39m\u001b[33m\"\u001b[39m])\n\u001b[32m--> \u001b[39m\u001b[32m147\u001b[39m \u001b[43msubprocess\u001b[49m\u001b[43m.\u001b[49m\u001b[43mcheck_output\u001b[49m\u001b[43m(\u001b[49m\u001b[43margs\u001b[49m\u001b[43m,\u001b[49m\u001b[43m \u001b[49m\u001b[43mstderr\u001b[49m\u001b[43m=\u001b[49m\u001b[43msubprocess\u001b[49m\u001b[43m.\u001b[49m\u001b[43mSTDOUT\u001b[49m\u001b[43m)\u001b[49m\n\u001b[32m    149\u001b[39m \u001b[38;5;28;01mreturn\u001b[39;00m executable_fpath\n",
      "\u001b[36mFile \u001b[39m\u001b[32m/usr/lib/python3.13/subprocess.py:472\u001b[39m, in \u001b[36mcheck_output\u001b[39m\u001b[34m(timeout, *popenargs, **kwargs)\u001b[39m\n\u001b[32m    469\u001b[39m         empty = \u001b[33mb\u001b[39m\u001b[33m'\u001b[39m\u001b[33m'\u001b[39m\n\u001b[32m    470\u001b[39m     kwargs[\u001b[33m'\u001b[39m\u001b[33minput\u001b[39m\u001b[33m'\u001b[39m] = empty\n\u001b[32m--> \u001b[39m\u001b[32m472\u001b[39m \u001b[38;5;28;01mreturn\u001b[39;00m \u001b[43mrun\u001b[49m\u001b[43m(\u001b[49m\u001b[43m*\u001b[49m\u001b[43mpopenargs\u001b[49m\u001b[43m,\u001b[49m\u001b[43m \u001b[49m\u001b[43mstdout\u001b[49m\u001b[43m=\u001b[49m\u001b[43mPIPE\u001b[49m\u001b[43m,\u001b[49m\u001b[43m \u001b[49m\u001b[43mtimeout\u001b[49m\u001b[43m=\u001b[49m\u001b[43mtimeout\u001b[49m\u001b[43m,\u001b[49m\u001b[43m \u001b[49m\u001b[43mcheck\u001b[49m\u001b[43m=\u001b[49m\u001b[38;5;28;43;01mTrue\u001b[39;49;00m\u001b[43m,\u001b[49m\n\u001b[32m    473\u001b[39m \u001b[43m           \u001b[49m\u001b[43m*\u001b[49m\u001b[43m*\u001b[49m\u001b[43mkwargs\u001b[49m\u001b[43m)\u001b[49m.stdout\n",
      "\u001b[36mFile \u001b[39m\u001b[32m/usr/lib/python3.13/subprocess.py:554\u001b[39m, in \u001b[36mrun\u001b[39m\u001b[34m(input, capture_output, timeout, check, *popenargs, **kwargs)\u001b[39m\n\u001b[32m    551\u001b[39m     kwargs[\u001b[33m'\u001b[39m\u001b[33mstdout\u001b[39m\u001b[33m'\u001b[39m] = PIPE\n\u001b[32m    552\u001b[39m     kwargs[\u001b[33m'\u001b[39m\u001b[33mstderr\u001b[39m\u001b[33m'\u001b[39m] = PIPE\n\u001b[32m--> \u001b[39m\u001b[32m554\u001b[39m \u001b[38;5;28;01mwith\u001b[39;00m \u001b[43mPopen\u001b[49m\u001b[43m(\u001b[49m\u001b[43m*\u001b[49m\u001b[43mpopenargs\u001b[49m\u001b[43m,\u001b[49m\u001b[43m \u001b[49m\u001b[43m*\u001b[49m\u001b[43m*\u001b[49m\u001b[43mkwargs\u001b[49m\u001b[43m)\u001b[49m \u001b[38;5;28;01mas\u001b[39;00m process:\n\u001b[32m    555\u001b[39m     \u001b[38;5;28;01mtry\u001b[39;00m:\n\u001b[32m    556\u001b[39m         stdout, stderr = process.communicate(\u001b[38;5;28minput\u001b[39m, timeout=timeout)\n",
      "\u001b[36mFile \u001b[39m\u001b[32m/usr/lib/python3.13/subprocess.py:1039\u001b[39m, in \u001b[36mPopen.__init__\u001b[39m\u001b[34m(self, args, bufsize, executable, stdin, stdout, stderr, preexec_fn, close_fds, shell, cwd, env, universal_newlines, startupinfo, creationflags, restore_signals, start_new_session, pass_fds, user, group, extra_groups, encoding, errors, text, umask, pipesize, process_group)\u001b[39m\n\u001b[32m   1035\u001b[39m         \u001b[38;5;28;01mif\u001b[39;00m \u001b[38;5;28mself\u001b[39m.text_mode:\n\u001b[32m   1036\u001b[39m             \u001b[38;5;28mself\u001b[39m.stderr = io.TextIOWrapper(\u001b[38;5;28mself\u001b[39m.stderr,\n\u001b[32m   1037\u001b[39m                     encoding=encoding, errors=errors)\n\u001b[32m-> \u001b[39m\u001b[32m1039\u001b[39m     \u001b[38;5;28;43mself\u001b[39;49m\u001b[43m.\u001b[49m\u001b[43m_execute_child\u001b[49m\u001b[43m(\u001b[49m\u001b[43margs\u001b[49m\u001b[43m,\u001b[49m\u001b[43m \u001b[49m\u001b[43mexecutable\u001b[49m\u001b[43m,\u001b[49m\u001b[43m \u001b[49m\u001b[43mpreexec_fn\u001b[49m\u001b[43m,\u001b[49m\u001b[43m \u001b[49m\u001b[43mclose_fds\u001b[49m\u001b[43m,\u001b[49m\n\u001b[32m   1040\u001b[39m \u001b[43m                        \u001b[49m\u001b[43mpass_fds\u001b[49m\u001b[43m,\u001b[49m\u001b[43m \u001b[49m\u001b[43mcwd\u001b[49m\u001b[43m,\u001b[49m\u001b[43m \u001b[49m\u001b[43menv\u001b[49m\u001b[43m,\u001b[49m\n\u001b[32m   1041\u001b[39m \u001b[43m                        \u001b[49m\u001b[43mstartupinfo\u001b[49m\u001b[43m,\u001b[49m\u001b[43m \u001b[49m\u001b[43mcreationflags\u001b[49m\u001b[43m,\u001b[49m\u001b[43m \u001b[49m\u001b[43mshell\u001b[49m\u001b[43m,\u001b[49m\n\u001b[32m   1042\u001b[39m \u001b[43m                        \u001b[49m\u001b[43mp2cread\u001b[49m\u001b[43m,\u001b[49m\u001b[43m \u001b[49m\u001b[43mp2cwrite\u001b[49m\u001b[43m,\u001b[49m\n\u001b[32m   1043\u001b[39m \u001b[43m                        \u001b[49m\u001b[43mc2pread\u001b[49m\u001b[43m,\u001b[49m\u001b[43m \u001b[49m\u001b[43mc2pwrite\u001b[49m\u001b[43m,\u001b[49m\n\u001b[32m   1044\u001b[39m \u001b[43m                        \u001b[49m\u001b[43merrread\u001b[49m\u001b[43m,\u001b[49m\u001b[43m \u001b[49m\u001b[43merrwrite\u001b[49m\u001b[43m,\u001b[49m\n\u001b[32m   1045\u001b[39m \u001b[43m                        \u001b[49m\u001b[43mrestore_signals\u001b[49m\u001b[43m,\u001b[49m\n\u001b[32m   1046\u001b[39m \u001b[43m                        \u001b[49m\u001b[43mgid\u001b[49m\u001b[43m,\u001b[49m\u001b[43m \u001b[49m\u001b[43mgids\u001b[49m\u001b[43m,\u001b[49m\u001b[43m \u001b[49m\u001b[43muid\u001b[49m\u001b[43m,\u001b[49m\u001b[43m \u001b[49m\u001b[43mumask\u001b[49m\u001b[43m,\u001b[49m\n\u001b[32m   1047\u001b[39m \u001b[43m                        \u001b[49m\u001b[43mstart_new_session\u001b[49m\u001b[43m,\u001b[49m\u001b[43m \u001b[49m\u001b[43mprocess_group\u001b[49m\u001b[43m)\u001b[49m\n\u001b[32m   1048\u001b[39m \u001b[38;5;28;01mexcept\u001b[39;00m:\n\u001b[32m   1049\u001b[39m     \u001b[38;5;66;03m# Cleanup if the child failed starting.\u001b[39;00m\n\u001b[32m   1050\u001b[39m     \u001b[38;5;28;01mfor\u001b[39;00m f \u001b[38;5;129;01min\u001b[39;00m \u001b[38;5;28mfilter\u001b[39m(\u001b[38;5;28;01mNone\u001b[39;00m, (\u001b[38;5;28mself\u001b[39m.stdin, \u001b[38;5;28mself\u001b[39m.stdout, \u001b[38;5;28mself\u001b[39m.stderr)):\n",
      "\u001b[36mFile \u001b[39m\u001b[32m/usr/lib/python3.13/subprocess.py:1969\u001b[39m, in \u001b[36mPopen._execute_child\u001b[39m\u001b[34m(self, args, executable, preexec_fn, close_fds, pass_fds, cwd, env, startupinfo, creationflags, shell, p2cread, p2cwrite, c2pread, c2pwrite, errread, errwrite, restore_signals, gid, gids, uid, umask, start_new_session, process_group)\u001b[39m\n\u001b[32m   1967\u001b[39m     err_msg = os.strerror(errno_num)\n\u001b[32m   1968\u001b[39m \u001b[38;5;28;01mif\u001b[39;00m err_filename \u001b[38;5;129;01mis\u001b[39;00m \u001b[38;5;129;01mnot\u001b[39;00m \u001b[38;5;28;01mNone\u001b[39;00m:\n\u001b[32m-> \u001b[39m\u001b[32m1969\u001b[39m     \u001b[38;5;28;01mraise\u001b[39;00m child_exception_type(errno_num, err_msg, err_filename)\n\u001b[32m   1970\u001b[39m \u001b[38;5;28;01melse\u001b[39;00m:\n\u001b[32m   1971\u001b[39m     \u001b[38;5;28;01mraise\u001b[39;00m child_exception_type(errno_num, err_msg)\n",
      "\u001b[31mFileNotFoundError\u001b[39m: [Errno 2] No such file or directory: 'nvcc'"
     ]
    }
   ],
   "source": [
    "%%cuda \n",
    "#include <cuda_runtime.h> \n",
    "#include <cuda.h> \n",
    "#include<cooperative_groups.h> \n",
    "#include<stdlib.h>\n",
    "#include<stdio.h>\n",
    "/*\n",
    "instead of being a pussy ass bitch, lets thing about a basic smem reduction kernel. \n",
    "say N is our big problem size, and BN is what a singular block would work on. \n",
    "indeed the partition [0, BN-1], [BN, 2BN-1]... [(k-1)BN, N-1] would be a k blocks. \n",
    "And this partition is okay, because shared memory and shit is per block. \n",
    "So, we have num_TPB threads in a block, ITS MATHIN TIME \n",
    "\n",
    "*/\n",
    "\n",
    "\n",
    "__global__ void grid_sync_reduction(float* A_in, float*A_out)\n",
    "{\n",
    "\n",
    "}\n",
    "\n",
    "#define CUDA_CHECK(call)                                                          \\\n",
    "    do {                                                                          \\\n",
    "        cudaError_t err = call;                                                   \\\n",
    "        if (err != cudaSuccess) {                                                 \\\n",
    "            fprintf(stderr, \"CUDA Error at %s:%d: %s\\n\",                          \\\n",
    "                    __FILE__, __LINE__, cudaGetErrorString(err));                 \\\n",
    "            return 1;                                                             \\\n",
    "        }                                                                         \\\n",
    "    } while (0)\n",
    "\n",
    "int main ()\n",
    "{\n",
    "  int device = 0; \n",
    "  int supports_coop_launch = 0; \n",
    "  int num_TPB = 32*16; \n",
    "  int blocks_per_sm = 0; \n",
    "  cudaDeviceProp deviceProp;\n",
    "  int num_SMs_on_device = 0;\n",
    "  int K_num_blocks = 0;\n",
    "\n",
    "  // 1. Get Cooperative Launch Attribute\n",
    "  CUDA_CHECK(cudaDeviceGetAttribute(&supports_coop_launch, cudaDevAttrCooperativeLaunch, device));\n",
    "  \n",
    "  // 2. Get Device Properties\n",
    "  CUDA_CHECK(cudaGetDeviceProperties(&deviceProp, device));\n",
    "  num_SMs_on_device = deviceProp.multiProcessorCount;\n",
    "  \n",
    "  // 3. Calculate Occupancy (Max Active Blocks Per SM)\n",
    "  // This assumes 'grid_sync_reduction' is the actual kernel name.\n",
    "  CUDA_CHECK(cudaOccupancyMaxActiveBlocksPerMultiprocessor(&blocks_per_sm, (void*)grid_sync_reduction, num_TPB, 0));\n",
    "  \n",
    "  // 4. Calculate Total Co-Schedulable Blocks\n",
    "  K_num_blocks = blocks_per_sm * num_SMs_on_device;\n",
    "\n",
    "  // ----------------------------------------------------------------------\n",
    "  // --- Pretty Print of all important numbers ---\n",
    "  printf(\"\\n--- CUDA Device Occupancy Analysis (Device %d) ---\\n\", device);\n",
    "  printf(\"Device Name: %s\\n\", deviceProp.name);\n",
    "  printf(\"----------------------------------------------------\\n\");\n",
    "  printf(\"1. Supports Cooperative Launch:         %s (%d)\\n\", \n",
    "         supports_coop_launch ? \"Yes\" : \"No\", supports_coop_launch);\n",
    "  printf(\"2. Kernel Threads Per Block (num_TPB):  %d\\n\", num_TPB);\n",
    "  printf(\"3. Number of Streaming Multiprocessors: %d\\n\", num_SMs_on_device);\n",
    "  printf(\"4. Max Active Blocks Per SM (Occupancy):%d\\n\", blocks_per_sm);\n",
    "  printf(\"5. Total Co-Schedulable Blocks (K_num_blocks):\\n\");\n",
    "  printf(\"   (SMs * Blocks/SM) = %d * %d = %d\\n\", num_SMs_on_device, blocks_per_sm, K_num_blocks);\n",
    "  printf(\"----------------------------------------------------\\n\\n\");\n",
    "  \n",
    "  return 0;\n",
    "}\n"
   ]
  },
  {
   "cell_type": "code",
   "execution_count": 5,
   "id": "1de203f9",
   "metadata": {},
   "outputs": [],
   "source": [
    "M,N,K = 4096, 4096, 4096\n",
    "threads_per_block = 32*16\n",
    "max_blocks_per_sm = 3\n",
    "num_SMs = 170\n",
    "TM = 8\n",
    "BM = 128\n",
    "BK = 16\n",
    "spec = matmul_spec(M,N,K,threads_per_block,max_blocks_per_sm, num_SMs, TM,BM, BK)"
   ]
  },
  {
   "cell_type": "code",
   "execution_count": 6,
   "id": "69808b2f",
   "metadata": {},
   "outputs": [
    {
     "name": "stdout",
     "output_type": "stream",
     "text": [
      "matmul_spec(\n",
      "  --- CONFIGURATION ---\n",
      "  Matrix Dims:    (M=4096, N=4096, K=4096)\n",
      "  Hardware:       (n_SMs=170, max_blocks_per_SM=3)\n",
      "  Tiling (Base):  (TM=8, BM=128, BK=16)\n",
      "  \n",
      "  --- CALCULATED SPECS ---\n",
      "  Total Elements (C): 16777216\n",
      "  Threads/Block (tpb): 512\n",
      "  Blocks/Grid (bpg):  510\n",
      "  Work/Thread (WPT):  64\n",
      "  Work/Block (WPB):   32768\n",
      "  \n",
      "  --- TILES ---\n",
      "  C Thread Tile:  (8, 8)\n",
      "  C Block Tile:   (128, 256)\n",
      "  A Load Tile:    (128, 16)\n",
      "  B Load Tile:    (16, 256)\n",
      ")\n"
     ]
    }
   ],
   "source": [
    "print(spec)"
   ]
  },
  {
   "cell_type": "code",
   "execution_count": 7,
   "id": "349cb8ea",
   "metadata": {},
   "outputs": [
    {
     "data": {
      "text/plain": [
       "4"
      ]
     },
     "execution_count": 7,
     "metadata": {},
     "output_type": "execute_result"
    }
   ],
   "source": [
    "512//128"
   ]
  },
  {
   "cell_type": "code",
   "execution_count": 8,
   "id": "2d233c88",
   "metadata": {},
   "outputs": [],
   "source": [
    "def make_banks (m,n): \n",
    "  X = (np.arange(m*n) % 32).reshape(m,n)\n",
    "  return X"
   ]
  },
  {
   "cell_type": "code",
   "execution_count": 9,
   "id": "53b69a02",
   "metadata": {},
   "outputs": [
    {
     "name": "stdout",
     "output_type": "stream",
     "text": [
      "[[ 0  1  2  3  4  5  6  7  8  9 10 11 12 13 14 15]\n",
      " [16 17 18 19 20 21 22 23 24 25 26 27 28 29 30 31]\n",
      " [ 0  1  2  3  4  5  6  7  8  9 10 11 12 13 14 15]\n",
      " [16 17 18 19 20 21 22 23 24 25 26 27 28 29 30 31]\n",
      " [ 0  1  2  3  4  5  6  7  8  9 10 11 12 13 14 15]\n",
      " [16 17 18 19 20 21 22 23 24 25 26 27 28 29 30 31]\n",
      " [ 0  1  2  3  4  5  6  7  8  9 10 11 12 13 14 15]\n",
      " [16 17 18 19 20 21 22 23 24 25 26 27 28 29 30 31]\n",
      " [ 0  1  2  3  4  5  6  7  8  9 10 11 12 13 14 15]\n",
      " [16 17 18 19 20 21 22 23 24 25 26 27 28 29 30 31]\n",
      " [ 0  1  2  3  4  5  6  7  8  9 10 11 12 13 14 15]\n",
      " [16 17 18 19 20 21 22 23 24 25 26 27 28 29 30 31]\n",
      " [ 0  1  2  3  4  5  6  7  8  9 10 11 12 13 14 15]\n",
      " [16 17 18 19 20 21 22 23 24 25 26 27 28 29 30 31]\n",
      " [ 0  1  2  3  4  5  6  7  8  9 10 11 12 13 14 15]\n",
      " [16 17 18 19 20 21 22 23 24 25 26 27 28 29 30 31]\n",
      " [ 0  1  2  3  4  5  6  7  8  9 10 11 12 13 14 15]\n",
      " [16 17 18 19 20 21 22 23 24 25 26 27 28 29 30 31]\n",
      " [ 0  1  2  3  4  5  6  7  8  9 10 11 12 13 14 15]\n",
      " [16 17 18 19 20 21 22 23 24 25 26 27 28 29 30 31]\n",
      " [ 0  1  2  3  4  5  6  7  8  9 10 11 12 13 14 15]\n",
      " [16 17 18 19 20 21 22 23 24 25 26 27 28 29 30 31]\n",
      " [ 0  1  2  3  4  5  6  7  8  9 10 11 12 13 14 15]\n",
      " [16 17 18 19 20 21 22 23 24 25 26 27 28 29 30 31]\n",
      " [ 0  1  2  3  4  5  6  7  8  9 10 11 12 13 14 15]\n",
      " [16 17 18 19 20 21 22 23 24 25 26 27 28 29 30 31]\n",
      " [ 0  1  2  3  4  5  6  7  8  9 10 11 12 13 14 15]\n",
      " [16 17 18 19 20 21 22 23 24 25 26 27 28 29 30 31]\n",
      " [ 0  1  2  3  4  5  6  7  8  9 10 11 12 13 14 15]\n",
      " [16 17 18 19 20 21 22 23 24 25 26 27 28 29 30 31]\n",
      " [ 0  1  2  3  4  5  6  7  8  9 10 11 12 13 14 15]\n",
      " [16 17 18 19 20 21 22 23 24 25 26 27 28 29 30 31]\n",
      " [ 0  1  2  3  4  5  6  7  8  9 10 11 12 13 14 15]\n",
      " [16 17 18 19 20 21 22 23 24 25 26 27 28 29 30 31]\n",
      " [ 0  1  2  3  4  5  6  7  8  9 10 11 12 13 14 15]\n",
      " [16 17 18 19 20 21 22 23 24 25 26 27 28 29 30 31]\n",
      " [ 0  1  2  3  4  5  6  7  8  9 10 11 12 13 14 15]\n",
      " [16 17 18 19 20 21 22 23 24 25 26 27 28 29 30 31]\n",
      " [ 0  1  2  3  4  5  6  7  8  9 10 11 12 13 14 15]\n",
      " [16 17 18 19 20 21 22 23 24 25 26 27 28 29 30 31]\n",
      " [ 0  1  2  3  4  5  6  7  8  9 10 11 12 13 14 15]\n",
      " [16 17 18 19 20 21 22 23 24 25 26 27 28 29 30 31]\n",
      " [ 0  1  2  3  4  5  6  7  8  9 10 11 12 13 14 15]\n",
      " [16 17 18 19 20 21 22 23 24 25 26 27 28 29 30 31]\n",
      " [ 0  1  2  3  4  5  6  7  8  9 10 11 12 13 14 15]\n",
      " [16 17 18 19 20 21 22 23 24 25 26 27 28 29 30 31]\n",
      " [ 0  1  2  3  4  5  6  7  8  9 10 11 12 13 14 15]\n",
      " [16 17 18 19 20 21 22 23 24 25 26 27 28 29 30 31]\n",
      " [ 0  1  2  3  4  5  6  7  8  9 10 11 12 13 14 15]\n",
      " [16 17 18 19 20 21 22 23 24 25 26 27 28 29 30 31]\n",
      " [ 0  1  2  3  4  5  6  7  8  9 10 11 12 13 14 15]\n",
      " [16 17 18 19 20 21 22 23 24 25 26 27 28 29 30 31]\n",
      " [ 0  1  2  3  4  5  6  7  8  9 10 11 12 13 14 15]\n",
      " [16 17 18 19 20 21 22 23 24 25 26 27 28 29 30 31]\n",
      " [ 0  1  2  3  4  5  6  7  8  9 10 11 12 13 14 15]\n",
      " [16 17 18 19 20 21 22 23 24 25 26 27 28 29 30 31]\n",
      " [ 0  1  2  3  4  5  6  7  8  9 10 11 12 13 14 15]\n",
      " [16 17 18 19 20 21 22 23 24 25 26 27 28 29 30 31]\n",
      " [ 0  1  2  3  4  5  6  7  8  9 10 11 12 13 14 15]\n",
      " [16 17 18 19 20 21 22 23 24 25 26 27 28 29 30 31]\n",
      " [ 0  1  2  3  4  5  6  7  8  9 10 11 12 13 14 15]\n",
      " [16 17 18 19 20 21 22 23 24 25 26 27 28 29 30 31]\n",
      " [ 0  1  2  3  4  5  6  7  8  9 10 11 12 13 14 15]\n",
      " [16 17 18 19 20 21 22 23 24 25 26 27 28 29 30 31]\n",
      " [ 0  1  2  3  4  5  6  7  8  9 10 11 12 13 14 15]\n",
      " [16 17 18 19 20 21 22 23 24 25 26 27 28 29 30 31]\n",
      " [ 0  1  2  3  4  5  6  7  8  9 10 11 12 13 14 15]\n",
      " [16 17 18 19 20 21 22 23 24 25 26 27 28 29 30 31]\n",
      " [ 0  1  2  3  4  5  6  7  8  9 10 11 12 13 14 15]\n",
      " [16 17 18 19 20 21 22 23 24 25 26 27 28 29 30 31]\n",
      " [ 0  1  2  3  4  5  6  7  8  9 10 11 12 13 14 15]\n",
      " [16 17 18 19 20 21 22 23 24 25 26 27 28 29 30 31]\n",
      " [ 0  1  2  3  4  5  6  7  8  9 10 11 12 13 14 15]\n",
      " [16 17 18 19 20 21 22 23 24 25 26 27 28 29 30 31]\n",
      " [ 0  1  2  3  4  5  6  7  8  9 10 11 12 13 14 15]\n",
      " [16 17 18 19 20 21 22 23 24 25 26 27 28 29 30 31]\n",
      " [ 0  1  2  3  4  5  6  7  8  9 10 11 12 13 14 15]\n",
      " [16 17 18 19 20 21 22 23 24 25 26 27 28 29 30 31]\n",
      " [ 0  1  2  3  4  5  6  7  8  9 10 11 12 13 14 15]\n",
      " [16 17 18 19 20 21 22 23 24 25 26 27 28 29 30 31]\n",
      " [ 0  1  2  3  4  5  6  7  8  9 10 11 12 13 14 15]\n",
      " [16 17 18 19 20 21 22 23 24 25 26 27 28 29 30 31]\n",
      " [ 0  1  2  3  4  5  6  7  8  9 10 11 12 13 14 15]\n",
      " [16 17 18 19 20 21 22 23 24 25 26 27 28 29 30 31]\n",
      " [ 0  1  2  3  4  5  6  7  8  9 10 11 12 13 14 15]\n",
      " [16 17 18 19 20 21 22 23 24 25 26 27 28 29 30 31]\n",
      " [ 0  1  2  3  4  5  6  7  8  9 10 11 12 13 14 15]\n",
      " [16 17 18 19 20 21 22 23 24 25 26 27 28 29 30 31]\n",
      " [ 0  1  2  3  4  5  6  7  8  9 10 11 12 13 14 15]\n",
      " [16 17 18 19 20 21 22 23 24 25 26 27 28 29 30 31]\n",
      " [ 0  1  2  3  4  5  6  7  8  9 10 11 12 13 14 15]\n",
      " [16 17 18 19 20 21 22 23 24 25 26 27 28 29 30 31]\n",
      " [ 0  1  2  3  4  5  6  7  8  9 10 11 12 13 14 15]\n",
      " [16 17 18 19 20 21 22 23 24 25 26 27 28 29 30 31]\n",
      " [ 0  1  2  3  4  5  6  7  8  9 10 11 12 13 14 15]\n",
      " [16 17 18 19 20 21 22 23 24 25 26 27 28 29 30 31]\n",
      " [ 0  1  2  3  4  5  6  7  8  9 10 11 12 13 14 15]\n",
      " [16 17 18 19 20 21 22 23 24 25 26 27 28 29 30 31]\n",
      " [ 0  1  2  3  4  5  6  7  8  9 10 11 12 13 14 15]\n",
      " [16 17 18 19 20 21 22 23 24 25 26 27 28 29 30 31]\n",
      " [ 0  1  2  3  4  5  6  7  8  9 10 11 12 13 14 15]\n",
      " [16 17 18 19 20 21 22 23 24 25 26 27 28 29 30 31]\n",
      " [ 0  1  2  3  4  5  6  7  8  9 10 11 12 13 14 15]\n",
      " [16 17 18 19 20 21 22 23 24 25 26 27 28 29 30 31]\n",
      " [ 0  1  2  3  4  5  6  7  8  9 10 11 12 13 14 15]\n",
      " [16 17 18 19 20 21 22 23 24 25 26 27 28 29 30 31]\n",
      " [ 0  1  2  3  4  5  6  7  8  9 10 11 12 13 14 15]\n",
      " [16 17 18 19 20 21 22 23 24 25 26 27 28 29 30 31]\n",
      " [ 0  1  2  3  4  5  6  7  8  9 10 11 12 13 14 15]\n",
      " [16 17 18 19 20 21 22 23 24 25 26 27 28 29 30 31]\n",
      " [ 0  1  2  3  4  5  6  7  8  9 10 11 12 13 14 15]\n",
      " [16 17 18 19 20 21 22 23 24 25 26 27 28 29 30 31]\n",
      " [ 0  1  2  3  4  5  6  7  8  9 10 11 12 13 14 15]\n",
      " [16 17 18 19 20 21 22 23 24 25 26 27 28 29 30 31]\n",
      " [ 0  1  2  3  4  5  6  7  8  9 10 11 12 13 14 15]\n",
      " [16 17 18 19 20 21 22 23 24 25 26 27 28 29 30 31]\n",
      " [ 0  1  2  3  4  5  6  7  8  9 10 11 12 13 14 15]\n",
      " [16 17 18 19 20 21 22 23 24 25 26 27 28 29 30 31]\n",
      " [ 0  1  2  3  4  5  6  7  8  9 10 11 12 13 14 15]\n",
      " [16 17 18 19 20 21 22 23 24 25 26 27 28 29 30 31]\n",
      " [ 0  1  2  3  4  5  6  7  8  9 10 11 12 13 14 15]\n",
      " [16 17 18 19 20 21 22 23 24 25 26 27 28 29 30 31]\n",
      " [ 0  1  2  3  4  5  6  7  8  9 10 11 12 13 14 15]\n",
      " [16 17 18 19 20 21 22 23 24 25 26 27 28 29 30 31]\n",
      " [ 0  1  2  3  4  5  6  7  8  9 10 11 12 13 14 15]\n",
      " [16 17 18 19 20 21 22 23 24 25 26 27 28 29 30 31]\n",
      " [ 0  1  2  3  4  5  6  7  8  9 10 11 12 13 14 15]\n",
      " [16 17 18 19 20 21 22 23 24 25 26 27 28 29 30 31]]\n"
     ]
    },
    {
     "data": {
      "text/plain": [
       "'\\nin 1 clock cycle, if many threads, issue a memory instruction to different \\naddresses of the same bank, the whole bank will serialized. \\n10 \\nt_x, t_y + 8, t_y + 2*8  \\n'"
      ]
     },
     "execution_count": 9,
     "metadata": {},
     "output_type": "execute_result"
    }
   ],
   "source": [
    "np.set_printoptions(\n",
    "    threshold=sys.maxsize,       # show the entire array\n",
    "    precision=2,            # 2 decimal places\n",
    "    suppress=True,          # no scientific notation\n",
    "    floatmode='fixed',      # consistent decimal formatting\n",
    "    linewidth=np.inf,       # prevent line wrapping\n",
    "\n",
    ")\n",
    "\n",
    "A = make_banks(128,16)\n",
    "print(A)\n",
    "\n",
    "\"\"\"\n",
    "in 1 clock cycle, if many threads, issue a memory instruction to different \n",
    "addresses of the same bank, the whole bank will serialized. \n",
    "10 \n",
    "t_x, t_y + 8, t_y + 2*8  \n",
    "\"\"\""
   ]
  },
  {
   "cell_type": "code",
   "execution_count": 10,
   "id": "9eac1523",
   "metadata": {},
   "outputs": [],
   "source": [
    "#the acess pattern spec should be like: \n",
    "\"\"\"\n",
    "iterator: i RANGE_i, j RANGE_j, .. \n",
    "\n",
    "\n",
    "\"\"\"\n",
    "\n",
    "\n",
    "\n",
    "def access_pattern_to_bank (thread_block_shape = (128,4), smem_shape = (128,17)): \n",
    "  TM = thread_block_shape[0]\n",
    "  TN = thread_block_shape[1] \n",
    "  \n",
    "  SM = smem_shape[0]\n",
    "  SN = smem_shape[1] \n",
    "  \n",
    "  threads = np.arange(TM*TN)\n",
    "  smem_banks = np.arange(SM*SN) % 32 \n",
    "  smem_addr = np.arange(SM*SN)\n",
    "  \n",
    "  T_to_addr = np.zeros((TM*TN, 4))\n",
    "  T_to_bank = np.zeros_like(T_to_addr)\n",
    "\n",
    "  #tx = t // TN \n",
    "  #ty = t % TN \n",
    "  tx = threads // TN \n",
    "  ty = threads % TN \n",
    "  seq = []\n",
    "  addr_seq = []\n",
    "  #ownership[t] = \n",
    "  for i in range (4): \n",
    "    T_to_bank[tx*TN + ty, i] = smem_banks[(tx*SN) + 4*ty + i]\n",
    "    T_to_addr[tx*TN + ty, i] = smem_addr[(tx*SN) + 4*ty + i]\n",
    "    \n",
    "    \n",
    "  return T_to_addr.astype(int), T_to_bank.astype(int)\n",
    "  \n",
    "    \n",
    "    \n",
    "    \n",
    "    \n",
    "  \n",
    "  \n",
    "  \n",
    "  "
   ]
  },
  {
   "cell_type": "code",
   "execution_count": 11,
   "id": "a49defd4",
   "metadata": {},
   "outputs": [],
   "source": [
    "X,Y = access_pattern_to_bank((128, 4), (128,17))"
   ]
  },
  {
   "cell_type": "code",
   "execution_count": 12,
   "id": "29c48687",
   "metadata": {},
   "outputs": [
    {
     "name": "stdout",
     "output_type": "stream",
     "text": [
      "[[ 0  1  2  3]\n",
      " [ 4  5  6  7]\n",
      " [ 8  9 10 11]\n",
      " [12 13 14 15]\n",
      " [17 18 19 20]\n",
      " [21 22 23 24]\n",
      " [25 26 27 28]\n",
      " [29 30 31  0]\n",
      " [ 2  3  4  5]\n",
      " [ 6  7  8  9]\n",
      " [10 11 12 13]\n",
      " [14 15 16 17]\n",
      " [19 20 21 22]\n",
      " [23 24 25 26]\n",
      " [27 28 29 30]\n",
      " [31  0  1  2]\n",
      " [ 4  5  6  7]\n",
      " [ 8  9 10 11]\n",
      " [12 13 14 15]\n",
      " [16 17 18 19]\n",
      " [21 22 23 24]\n",
      " [25 26 27 28]\n",
      " [29 30 31  0]\n",
      " [ 1  2  3  4]\n",
      " [ 6  7  8  9]\n",
      " [10 11 12 13]\n",
      " [14 15 16 17]\n",
      " [18 19 20 21]\n",
      " [23 24 25 26]\n",
      " [27 28 29 30]\n",
      " [31  0  1  2]\n",
      " [ 3  4  5  6]]\n"
     ]
    }
   ],
   "source": [
    "np.set_printoptions(\n",
    "    threshold=sys.maxsize,       # show the entire array\n",
    "    precision=2,            # 2 decimal places\n",
    "    suppress=True,          # no scientific notation\n",
    "    floatmode='fixed',      # consistent decimal formatting\n",
    "    linewidth=np.inf,       # prevent line wrapping\n",
    "\n",
    ")\n",
    "\n",
    "print(Y[:32])"
   ]
  },
  {
   "cell_type": "code",
   "execution_count": 13,
   "id": "efe46f5c",
   "metadata": {},
   "outputs": [
    {
     "name": "stdout",
     "output_type": "stream",
     "text": [
      "[[ 0  1  2  3]\n",
      " [ 4  5  6  7]\n",
      " [ 8  9 10 11]\n",
      " ...\n",
      " [19 20 21 22]\n",
      " [23 24 25 26]\n",
      " [27 28 29 30]]\n"
     ]
    }
   ],
   "source": [
    "print(Y)"
   ]
  },
  {
   "cell_type": "markdown",
   "id": "f2181185",
   "metadata": {},
   "source": [
    "#Shared Memory Bank conflict (REALLY LOOK INTO HOW GPU WORKS AT HARDWARE LEVEL)\n",
    "\n",
    "(apparantly) the scheduler of an SM issues only 1 warp's memory transaction per clock cycle. The fullfilling of the requests can concurr, but every clock cycle only 1 warp mem instruction (as far as gemini is telling me). That means that SMEM bank conflicts can occur only between threads witihin a warp. It is therotically possible to be conflict free, (use a permutation of 32 with no stable points)"
   ]
  },
  {
   "cell_type": "code",
   "execution_count": 14,
   "id": "6b33539b",
   "metadata": {},
   "outputs": [],
   "source": [
    "def count_bank_conficts(T_to_bank): \n",
    "  bank_conflict_counts = np.zeros(((T_to_bank.shape[0]//32), 32)).astype(int)\n",
    "  \n",
    "  for i, t in enumerate(T_to_bank):\n",
    "    warp_id = i // 32 \n",
    "    bank_conflict_counts[warp_id][t] += 1\n",
    "    \n",
    "  return bank_conflict_counts\n"
   ]
  },
  {
   "cell_type": "code",
   "execution_count": 15,
   "id": "38397ba5",
   "metadata": {},
   "outputs": [
    {
     "data": {
      "text/plain": [
       "(512, 4)"
      ]
     },
     "execution_count": 15,
     "metadata": {},
     "output_type": "execute_result"
    }
   ],
   "source": [
    "\n",
    "\n",
    "Y.shape\n"
   ]
  },
  {
   "cell_type": "code",
   "execution_count": 16,
   "id": "c1e76660",
   "metadata": {},
   "outputs": [
    {
     "data": {
      "text/plain": [
       "array([[5, 4, 5, 4, 5, 4, 5, 4, 4, 4, 4, 4, 4, 4, 4, 4, 3, 4, 3, 4, 3, 4,\n",
       "        3, 4, 4, 4, 4, 4, 4, 4, 4, 4],\n",
       "       [4, 4, 4, 4, 4, 4, 4, 4, 5, 4, 5, 4, 5, 4, 5, 4, 4, 4, 4, 4, 4, 4,\n",
       "        4, 4, 3, 4, 3, 4, 3, 4, 3, 4],\n",
       "       [3, 4, 3, 4, 3, 4, 3, 4, 4, 4, 4, 4, 4, 4, 4, 4, 5, 4, 5, 4, 5, 4,\n",
       "        5, 4, 4, 4, 4, 4, 4, 4, 4, 4],\n",
       "       [4, 4, 4, 4, 4, 4, 4, 4, 3, 4, 3, 4, 3, 4, 3, 4, 4, 4, 4, 4, 4, 4,\n",
       "        4, 4, 5, 4, 5, 4, 5, 4, 5, 4],\n",
       "       [5, 4, 5, 4, 5, 4, 5, 4, 4, 4, 4, 4, 4, 4, 4, 4, 3, 4, 3, 4, 3, 4,\n",
       "        3, 4, 4, 4, 4, 4, 4, 4, 4, 4],\n",
       "       [4, 4, 4, 4, 4, 4, 4, 4, 5, 4, 5, 4, 5, 4, 5, 4, 4, 4, 4, 4, 4, 4,\n",
       "        4, 4, 3, 4, 3, 4, 3, 4, 3, 4],\n",
       "       [3, 4, 3, 4, 3, 4, 3, 4, 4, 4, 4, 4, 4, 4, 4, 4, 5, 4, 5, 4, 5, 4,\n",
       "        5, 4, 4, 4, 4, 4, 4, 4, 4, 4],\n",
       "       [4, 4, 4, 4, 4, 4, 4, 4, 3, 4, 3, 4, 3, 4, 3, 4, 4, 4, 4, 4, 4, 4,\n",
       "        4, 4, 5, 4, 5, 4, 5, 4, 5, 4],\n",
       "       [5, 4, 5, 4, 5, 4, 5, 4, 4, 4, 4, 4, 4, 4, 4, 4, 3, 4, 3, 4, 3, 4,\n",
       "        3, 4, 4, 4, 4, 4, 4, 4, 4, 4],\n",
       "       [4, 4, 4, 4, 4, 4, 4, 4, 5, 4, 5, 4, 5, 4, 5, 4, 4, 4, 4, 4, 4, 4,\n",
       "        4, 4, 3, 4, 3, 4, 3, 4, 3, 4],\n",
       "       [3, 4, 3, 4, 3, 4, 3, 4, 4, 4, 4, 4, 4, 4, 4, 4, 5, 4, 5, 4, 5, 4,\n",
       "        5, 4, 4, 4, 4, 4, 4, 4, 4, 4],\n",
       "       [4, 4, 4, 4, 4, 4, 4, 4, 3, 4, 3, 4, 3, 4, 3, 4, 4, 4, 4, 4, 4, 4,\n",
       "        4, 4, 5, 4, 5, 4, 5, 4, 5, 4],\n",
       "       [5, 4, 5, 4, 5, 4, 5, 4, 4, 4, 4, 4, 4, 4, 4, 4, 3, 4, 3, 4, 3, 4,\n",
       "        3, 4, 4, 4, 4, 4, 4, 4, 4, 4],\n",
       "       [4, 4, 4, 4, 4, 4, 4, 4, 5, 4, 5, 4, 5, 4, 5, 4, 4, 4, 4, 4, 4, 4,\n",
       "        4, 4, 3, 4, 3, 4, 3, 4, 3, 4],\n",
       "       [3, 4, 3, 4, 3, 4, 3, 4, 4, 4, 4, 4, 4, 4, 4, 4, 5, 4, 5, 4, 5, 4,\n",
       "        5, 4, 4, 4, 4, 4, 4, 4, 4, 4],\n",
       "       [4, 4, 4, 4, 4, 4, 4, 4, 3, 4, 3, 4, 3, 4, 3, 4, 4, 4, 4, 4, 4, 4,\n",
       "        4, 4, 5, 4, 5, 4, 5, 4, 5, 4]])"
      ]
     },
     "execution_count": 16,
     "metadata": {},
     "output_type": "execute_result"
    }
   ],
   "source": [
    "count_bank_conficts(Y)"
   ]
  },
  {
   "cell_type": "code",
   "execution_count": 17,
   "id": "d1b31f37",
   "metadata": {},
   "outputs": [],
   "source": [
    "\"\"\"\n",
    "an access pattern is a mapping over iterators (i,j,k)\n",
    "\n",
    "\"\"\"\n",
    "\n",
    "class access_pattern:\n",
    "  def __init__ (self, smem_shape, smem_stride, smem_word_size, iterator_shape, iterator_stride, smem_bank_size, thread_shape, thread_stride): \n",
    "    \"\"\"\n",
    "    \n",
    "    \"\"\""
   ]
  },
  {
   "cell_type": "code",
   "execution_count": null,
   "id": "941eae01",
   "metadata": {},
   "outputs": [],
   "source": []
  },
  {
   "cell_type": "code",
   "execution_count": 27,
   "id": "eab5560c",
   "metadata": {},
   "outputs": [
    {
     "data": {
      "text/plain": [
       "'\\nwhat restrictions should shape and stride have so that the map from 1d to shaped index and and shaped index to 1d are nice bijections that sit within the ranges\\nt -> TUPLE(t) should be bijective, and each entry of tuple(t) should be within 0 to dim -1 inclusive. \\nTUPLE(t) -> t should be bijective and must be within the range of [0, N_elemements]\\n\\nRead layout algebra\\nRead cutlass. \\n'"
      ]
     },
     "execution_count": 27,
     "metadata": {},
     "output_type": "execute_result"
    }
   ],
   "source": [
    "\"\"\"\n",
    "what restrictions should shape and stride have so that the map from 1d to shaped index and and shaped index to 1d are nice bijections that sit within the ranges\n",
    "t -> TUPLE(t) should be bijective, and each entry of tuple(t) should be within 0 to dim -1 inclusive. \n",
    "TUPLE(t) -> t should be bijective and must be within the range of [0, N_elemements]\n",
    "\n",
    "Read layout algebra\n",
    "Read cutlass. \n",
    "\"\"\""
   ]
  },
  {
   "cell_type": "code",
   "execution_count": 41,
   "id": "179ed0e3",
   "metadata": {},
   "outputs": [],
   "source": [
    "np.set_printoptions(2, sys.maxsize)\n",
    "x,y = access_pattern_to_bank((128,4), (128,21))\n",
    "z = count_bank_conficts(y)"
   ]
  },
  {
   "cell_type": "code",
   "execution_count": 42,
   "id": "4e3e4e53",
   "metadata": {},
   "outputs": [
    {
     "data": {
      "text/plain": [
       "array([[6, 6, 6, 5, 4, 3, 3, 3, 3, 4, 5, 5, 5, 5, 4, 3, 2, 2, 2, 3, 4, 5,\n",
       "        5, 5, 5, 4, 3, 3, 3, 3, 4, 5],\n",
       "       [5, 4, 3, 3, 3, 3, 4, 5, 6, 6, 6, 5, 4, 3, 3, 3, 3, 4, 5, 5, 5, 5,\n",
       "        4, 3, 2, 2, 2, 3, 4, 5, 5, 5],\n",
       "       [2, 2, 2, 3, 4, 5, 5, 5, 5, 4, 3, 3, 3, 3, 4, 5, 6, 6, 6, 5, 4, 3,\n",
       "        3, 3, 3, 4, 5, 5, 5, 5, 4, 3],\n",
       "       [3, 4, 5, 5, 5, 5, 4, 3, 2, 2, 2, 3, 4, 5, 5, 5, 5, 4, 3, 3, 3, 3,\n",
       "        4, 5, 6, 6, 6, 5, 4, 3, 3, 3],\n",
       "       [6, 6, 6, 5, 4, 3, 3, 3, 3, 4, 5, 5, 5, 5, 4, 3, 2, 2, 2, 3, 4, 5,\n",
       "        5, 5, 5, 4, 3, 3, 3, 3, 4, 5],\n",
       "       [5, 4, 3, 3, 3, 3, 4, 5, 6, 6, 6, 5, 4, 3, 3, 3, 3, 4, 5, 5, 5, 5,\n",
       "        4, 3, 2, 2, 2, 3, 4, 5, 5, 5],\n",
       "       [2, 2, 2, 3, 4, 5, 5, 5, 5, 4, 3, 3, 3, 3, 4, 5, 6, 6, 6, 5, 4, 3,\n",
       "        3, 3, 3, 4, 5, 5, 5, 5, 4, 3],\n",
       "       [3, 4, 5, 5, 5, 5, 4, 3, 2, 2, 2, 3, 4, 5, 5, 5, 5, 4, 3, 3, 3, 3,\n",
       "        4, 5, 6, 6, 6, 5, 4, 3, 3, 3],\n",
       "       [6, 6, 6, 5, 4, 3, 3, 3, 3, 4, 5, 5, 5, 5, 4, 3, 2, 2, 2, 3, 4, 5,\n",
       "        5, 5, 5, 4, 3, 3, 3, 3, 4, 5],\n",
       "       [5, 4, 3, 3, 3, 3, 4, 5, 6, 6, 6, 5, 4, 3, 3, 3, 3, 4, 5, 5, 5, 5,\n",
       "        4, 3, 2, 2, 2, 3, 4, 5, 5, 5],\n",
       "       [2, 2, 2, 3, 4, 5, 5, 5, 5, 4, 3, 3, 3, 3, 4, 5, 6, 6, 6, 5, 4, 3,\n",
       "        3, 3, 3, 4, 5, 5, 5, 5, 4, 3],\n",
       "       [3, 4, 5, 5, 5, 5, 4, 3, 2, 2, 2, 3, 4, 5, 5, 5, 5, 4, 3, 3, 3, 3,\n",
       "        4, 5, 6, 6, 6, 5, 4, 3, 3, 3],\n",
       "       [6, 6, 6, 5, 4, 3, 3, 3, 3, 4, 5, 5, 5, 5, 4, 3, 2, 2, 2, 3, 4, 5,\n",
       "        5, 5, 5, 4, 3, 3, 3, 3, 4, 5],\n",
       "       [5, 4, 3, 3, 3, 3, 4, 5, 6, 6, 6, 5, 4, 3, 3, 3, 3, 4, 5, 5, 5, 5,\n",
       "        4, 3, 2, 2, 2, 3, 4, 5, 5, 5],\n",
       "       [2, 2, 2, 3, 4, 5, 5, 5, 5, 4, 3, 3, 3, 3, 4, 5, 6, 6, 6, 5, 4, 3,\n",
       "        3, 3, 3, 4, 5, 5, 5, 5, 4, 3],\n",
       "       [3, 4, 5, 5, 5, 5, 4, 3, 2, 2, 2, 3, 4, 5, 5, 5, 5, 4, 3, 3, 3, 3,\n",
       "        4, 5, 6, 6, 6, 5, 4, 3, 3, 3]])"
      ]
     },
     "execution_count": 42,
     "metadata": {},
     "output_type": "execute_result"
    }
   ],
   "source": [
    "z"
   ]
  },
  {
   "cell_type": "code",
   "execution_count": null,
   "id": "382c44d4",
   "metadata": {},
   "outputs": [],
   "source": []
  }
 ],
 "metadata": {
  "kernelspec": {
   "display_name": ".venv (3.12.11)",
   "language": "python",
   "name": "python3"
  },
  "language_info": {
   "codemirror_mode": {
    "name": "ipython",
    "version": 3
   },
   "file_extension": ".py",
   "mimetype": "text/x-python",
   "name": "python",
   "nbconvert_exporter": "python",
   "pygments_lexer": "ipython3",
   "version": "3.12.11"
  }
 },
 "nbformat": 4,
 "nbformat_minor": 5
}
