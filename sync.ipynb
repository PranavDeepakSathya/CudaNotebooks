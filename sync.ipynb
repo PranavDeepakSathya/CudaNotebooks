{
 "cells": [
  {
   "cell_type": "code",
   "execution_count": 1,
   "id": "b0f4da9b",
   "metadata": {},
   "outputs": [
    {
     "name": "stdout",
     "output_type": "stream",
     "text": [
      "Source files will be saved in \"/tmp/tmpq5ke7pkn\".\n"
     ]
    }
   ],
   "source": [
    "%load_ext nvcc4jupyter\n",
    "\n",
    "from nvcc4jupyter import set_defaults\n",
    "set_defaults(compiler_args='-arch=sm_100a -Xptxas=-v')"
   ]
  },
  {
   "cell_type": "markdown",
   "id": "f68f2be4",
   "metadata": {},
   "source": [
    "We are so fucking back, have a sore throat, IM PISSED AND IN NEED TO CODE AND THINK IMMA GO TAKE SOME COUGHT SUPRESSSANT AND BE RIGHT BACK. "
   ]
  },
  {
   "cell_type": "markdown",
   "id": "4c5571ac",
   "metadata": {},
   "source": []
  },
  {
   "cell_type": "code",
   "execution_count": null,
   "id": "fa93e2bd",
   "metadata": {},
   "outputs": [
    {
     "name": "stdout",
     "output_type": "stream",
     "text": [
      "\n"
     ]
    }
   ],
   "source": [
    "%%cuda\n",
    "\n",
    "#include<stdio.h>\n",
    "#include<stdlib.h>\n",
    "#include<cuda.h> \n",
    "#include<cuda_runtime.h> \n",
    "#include<cooperative_groups.h> \n",
    "\n",
    "\n",
    "constexpr int N = 4096; \n",
    "constexpr int block_size = 1024; \n",
    "constexpr int N_blocks = 1; \n",
    "constexpr int N_iter = N/block_size;\n",
    "\n",
    "__global__ void three_step_sync(float*A, float*B)\n",
    "{\n",
    "  \n",
    "}\n",
    "\n",
    "int main()\n",
    "{\n",
    "  float *A_h, *A_d, *B_h, *B_d; \n",
    "  size_t size = N*sizeof(float);\n",
    "  \n",
    "  cudaHostAlloc(&A_h, size, cudaHostAllocDefault);\n",
    "  cudaHostAlloc(&B_h, size, cudaHostAllocDefault); \n",
    "  \n",
    "  cudaMalloc(&A_d, size);\n",
    "  cudaMalloc(&B_d, size);\n",
    "  \n",
    "  for (int i = 0; i < N; i++)\n",
    "  {\n",
    "    A_h[i] = (float)(i/1000.0);\n",
    "  }\n",
    "  \n",
    "  cudaMemcpy(A_d, A_h, cudaMemcpyHostToDevice); \n",
    "  \n",
    "  three_set_sync<<<N_blocks, block_size>>>(A_d, B_d); \n",
    "  \n",
    "  cudaDeviceSyncronize();\n",
    "  \n",
    "  cudaMemcpy(B_h, B_d, cuddaMemcpyDeviceToHost);\n",
    "  \n",
    "  \n",
    "  cudaFree(A_d)\n",
    "  cudaFree(B_d) \n",
    "    \n",
    "  \n",
    "  \n",
    "  \n",
    "  \n",
    "  \n",
    "  \n",
    "  \n",
    "  \n",
    "}\n"
   ]
  },
  {
   "cell_type": "code",
   "execution_count": null,
   "id": "eb8e505f",
   "metadata": {},
   "outputs": [],
   "source": []
  }
 ],
 "metadata": {
  "kernelspec": {
   "display_name": ".venv (3.12.11)",
   "language": "python",
   "name": "python3"
  },
  "language_info": {
   "codemirror_mode": {
    "name": "ipython",
    "version": 3
   },
   "file_extension": ".py",
   "mimetype": "text/x-python",
   "name": "python",
   "nbconvert_exporter": "python",
   "pygments_lexer": "ipython3",
   "version": "3.12.11"
  }
 },
 "nbformat": 4,
 "nbformat_minor": 5
}
